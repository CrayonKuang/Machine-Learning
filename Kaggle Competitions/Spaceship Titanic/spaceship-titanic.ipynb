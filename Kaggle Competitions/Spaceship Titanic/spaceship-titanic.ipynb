{
 "cells": [
  {
   "cell_type": "code",
   "execution_count": 1,
   "id": "a54d1eae",
   "metadata": {
    "_cell_guid": "b1076dfc-b9ad-4769-8c92-a6c4dae69d19",
    "_uuid": "8f2839f25d086af736a60e9eeb907d3b93b6e0e5",
    "execution": {
     "iopub.execute_input": "2023-10-06T13:42:37.124369Z",
     "iopub.status.busy": "2023-10-06T13:42:37.124028Z",
     "iopub.status.idle": "2023-10-06T13:42:38.803594Z",
     "shell.execute_reply": "2023-10-06T13:42:38.801495Z"
    },
    "papermill": {
     "duration": 1.692483,
     "end_time": "2023-10-06T13:42:38.806410",
     "exception": false,
     "start_time": "2023-10-06T13:42:37.113927",
     "status": "completed"
    },
    "tags": []
   },
   "outputs": [
    {
     "name": "stderr",
     "output_type": "stream",
     "text": [
      "/opt/conda/lib/python3.10/site-packages/scipy/__init__.py:146: UserWarning: A NumPy version >=1.16.5 and <1.23.0 is required for this version of SciPy (detected version 1.23.5\n",
      "  warnings.warn(f\"A NumPy version >={np_minversion} and <{np_maxversion}\"\n"
     ]
    },
    {
     "name": "stdout",
     "output_type": "stream",
     "text": [
      "/kaggle/input/spaceship-titanic/sample_submission.csv\n",
      "/kaggle/input/spaceship-titanic/train.csv\n",
      "/kaggle/input/spaceship-titanic/test.csv\n"
     ]
    }
   ],
   "source": [
    "# This Python 3 environment comes with many helpful analytics libraries installed\n",
    "# It is defined by the kaggle/python Docker image: https://github.com/kaggle/docker-python\n",
    "# For example, here's several helpful packages to load\n",
    "\n",
    "import numpy as np # linear algebra\n",
    "import pandas as pd # data processing, CSV file I/O (e.g. pd.read_csv)\n",
    "import seaborn as sns\n",
    "\n",
    "# Input data files are available in the read-only \"../input/\" directory\n",
    "# For example, running this (by clicking run or pressing Shift+Enter) will list all files under the input directory\n",
    "\n",
    "import os\n",
    "for dirname, _, filenames in os.walk('/kaggle/input'):\n",
    "    for filename in filenames:\n",
    "        print(os.path.join(dirname, filename))\n",
    "\n",
    "# You can write up to 20GB to the current directory (/kaggle/working/) that gets preserved as output when you create a version using \"Save & Run All\" \n",
    "# You can also write temporary files to /kaggle/temp/, but they won't be saved outside of the current session"
   ]
  },
  {
   "cell_type": "code",
   "execution_count": 2,
   "id": "59069a2c",
   "metadata": {
    "execution": {
     "iopub.execute_input": "2023-10-06T13:42:38.827346Z",
     "iopub.status.busy": "2023-10-06T13:42:38.826770Z",
     "iopub.status.idle": "2023-10-06T13:42:38.965979Z",
     "shell.execute_reply": "2023-10-06T13:42:38.963674Z"
    },
    "papermill": {
     "duration": 0.152594,
     "end_time": "2023-10-06T13:42:38.968201",
     "exception": false,
     "start_time": "2023-10-06T13:42:38.815607",
     "status": "completed"
    },
    "tags": []
   },
   "outputs": [
    {
     "data": {
      "text/html": [
       "<div>\n",
       "<style scoped>\n",
       "    .dataframe tbody tr th:only-of-type {\n",
       "        vertical-align: middle;\n",
       "    }\n",
       "\n",
       "    .dataframe tbody tr th {\n",
       "        vertical-align: top;\n",
       "    }\n",
       "\n",
       "    .dataframe thead th {\n",
       "        text-align: right;\n",
       "    }\n",
       "</style>\n",
       "<table border=\"1\" class=\"dataframe\">\n",
       "  <thead>\n",
       "    <tr style=\"text-align: right;\">\n",
       "      <th></th>\n",
       "      <th>PassengerId</th>\n",
       "      <th>HomePlanet</th>\n",
       "      <th>CryoSleep</th>\n",
       "      <th>Cabin</th>\n",
       "      <th>Destination</th>\n",
       "      <th>Age</th>\n",
       "      <th>VIP</th>\n",
       "      <th>RoomService</th>\n",
       "      <th>FoodCourt</th>\n",
       "      <th>ShoppingMall</th>\n",
       "      <th>Spa</th>\n",
       "      <th>VRDeck</th>\n",
       "      <th>Name</th>\n",
       "      <th>Transported</th>\n",
       "    </tr>\n",
       "  </thead>\n",
       "  <tbody>\n",
       "    <tr>\n",
       "      <th>0</th>\n",
       "      <td>0001_01</td>\n",
       "      <td>Europa</td>\n",
       "      <td>False</td>\n",
       "      <td>B/0/P</td>\n",
       "      <td>TRAPPIST-1e</td>\n",
       "      <td>39.0</td>\n",
       "      <td>False</td>\n",
       "      <td>0.0</td>\n",
       "      <td>0.0</td>\n",
       "      <td>0.0</td>\n",
       "      <td>0.0</td>\n",
       "      <td>0.0</td>\n",
       "      <td>Maham Ofracculy</td>\n",
       "      <td>False</td>\n",
       "    </tr>\n",
       "    <tr>\n",
       "      <th>1</th>\n",
       "      <td>0002_01</td>\n",
       "      <td>Earth</td>\n",
       "      <td>False</td>\n",
       "      <td>F/0/S</td>\n",
       "      <td>TRAPPIST-1e</td>\n",
       "      <td>24.0</td>\n",
       "      <td>False</td>\n",
       "      <td>109.0</td>\n",
       "      <td>9.0</td>\n",
       "      <td>25.0</td>\n",
       "      <td>549.0</td>\n",
       "      <td>44.0</td>\n",
       "      <td>Juanna Vines</td>\n",
       "      <td>True</td>\n",
       "    </tr>\n",
       "    <tr>\n",
       "      <th>2</th>\n",
       "      <td>0003_01</td>\n",
       "      <td>Europa</td>\n",
       "      <td>False</td>\n",
       "      <td>A/0/S</td>\n",
       "      <td>TRAPPIST-1e</td>\n",
       "      <td>58.0</td>\n",
       "      <td>True</td>\n",
       "      <td>43.0</td>\n",
       "      <td>3576.0</td>\n",
       "      <td>0.0</td>\n",
       "      <td>6715.0</td>\n",
       "      <td>49.0</td>\n",
       "      <td>Altark Susent</td>\n",
       "      <td>False</td>\n",
       "    </tr>\n",
       "    <tr>\n",
       "      <th>3</th>\n",
       "      <td>0003_02</td>\n",
       "      <td>Europa</td>\n",
       "      <td>False</td>\n",
       "      <td>A/0/S</td>\n",
       "      <td>TRAPPIST-1e</td>\n",
       "      <td>33.0</td>\n",
       "      <td>False</td>\n",
       "      <td>0.0</td>\n",
       "      <td>1283.0</td>\n",
       "      <td>371.0</td>\n",
       "      <td>3329.0</td>\n",
       "      <td>193.0</td>\n",
       "      <td>Solam Susent</td>\n",
       "      <td>False</td>\n",
       "    </tr>\n",
       "    <tr>\n",
       "      <th>4</th>\n",
       "      <td>0004_01</td>\n",
       "      <td>Earth</td>\n",
       "      <td>False</td>\n",
       "      <td>F/1/S</td>\n",
       "      <td>TRAPPIST-1e</td>\n",
       "      <td>16.0</td>\n",
       "      <td>False</td>\n",
       "      <td>303.0</td>\n",
       "      <td>70.0</td>\n",
       "      <td>151.0</td>\n",
       "      <td>565.0</td>\n",
       "      <td>2.0</td>\n",
       "      <td>Willy Santantines</td>\n",
       "      <td>True</td>\n",
       "    </tr>\n",
       "  </tbody>\n",
       "</table>\n",
       "</div>"
      ],
      "text/plain": [
       "  PassengerId HomePlanet CryoSleep  Cabin  Destination   Age    VIP  \\\n",
       "0     0001_01     Europa     False  B/0/P  TRAPPIST-1e  39.0  False   \n",
       "1     0002_01      Earth     False  F/0/S  TRAPPIST-1e  24.0  False   \n",
       "2     0003_01     Europa     False  A/0/S  TRAPPIST-1e  58.0   True   \n",
       "3     0003_02     Europa     False  A/0/S  TRAPPIST-1e  33.0  False   \n",
       "4     0004_01      Earth     False  F/1/S  TRAPPIST-1e  16.0  False   \n",
       "\n",
       "   RoomService  FoodCourt  ShoppingMall     Spa  VRDeck               Name  \\\n",
       "0          0.0        0.0           0.0     0.0     0.0    Maham Ofracculy   \n",
       "1        109.0        9.0          25.0   549.0    44.0       Juanna Vines   \n",
       "2         43.0     3576.0           0.0  6715.0    49.0      Altark Susent   \n",
       "3          0.0     1283.0         371.0  3329.0   193.0       Solam Susent   \n",
       "4        303.0       70.0         151.0   565.0     2.0  Willy Santantines   \n",
       "\n",
       "   Transported  \n",
       "0        False  \n",
       "1         True  \n",
       "2        False  \n",
       "3        False  \n",
       "4         True  "
      ]
     },
     "execution_count": 2,
     "metadata": {},
     "output_type": "execute_result"
    }
   ],
   "source": [
    "train = pd.read_csv(\"/kaggle/input/spaceship-titanic/train.csv\")\n",
    "test = pd.read_csv(\"/kaggle/input/spaceship-titanic/test.csv\")\n",
    "train.head()"
   ]
  },
  {
   "cell_type": "markdown",
   "id": "d636496f",
   "metadata": {
    "papermill": {
     "duration": 0.008264,
     "end_time": "2023-10-06T13:42:38.985281",
     "exception": false,
     "start_time": "2023-10-06T13:42:38.977017",
     "status": "completed"
    },
    "tags": []
   },
   "source": [
    "The dataset indicates that the passengerId takes the form gggg_pp, where gggg indicates the group the individual is travelling with and pp is their number within the group. Based on this, we can extract the number of people each individual is travelling with."
   ]
  },
  {
   "cell_type": "code",
   "execution_count": 3,
   "id": "e4d90f10",
   "metadata": {
    "execution": {
     "iopub.execute_input": "2023-10-06T13:42:39.004360Z",
     "iopub.status.busy": "2023-10-06T13:42:39.003846Z",
     "iopub.status.idle": "2023-10-06T13:42:39.028813Z",
     "shell.execute_reply": "2023-10-06T13:42:39.027166Z"
    },
    "papermill": {
     "duration": 0.037714,
     "end_time": "2023-10-06T13:42:39.031487",
     "exception": false,
     "start_time": "2023-10-06T13:42:38.993773",
     "status": "completed"
    },
    "tags": []
   },
   "outputs": [],
   "source": [
    "#Extract groups from the passenger ID\n",
    "def extract_grp(x):\n",
    "    splitstr = x.split(\"_\")\n",
    "    return splitstr[0]\n",
    "train['Group'] = train[\"PassengerId\"].apply(extract_grp)\n",
    "test['Group'] = train[\"PassengerId\"].apply(extract_grp)\n"
   ]
  },
  {
   "cell_type": "code",
   "execution_count": 4,
   "id": "93fe7807",
   "metadata": {
    "execution": {
     "iopub.execute_input": "2023-10-06T13:42:39.051551Z",
     "iopub.status.busy": "2023-10-06T13:42:39.050442Z",
     "iopub.status.idle": "2023-10-06T13:42:39.127659Z",
     "shell.execute_reply": "2023-10-06T13:42:39.126763Z"
    },
    "papermill": {
     "duration": 0.089658,
     "end_time": "2023-10-06T13:42:39.129807",
     "exception": false,
     "start_time": "2023-10-06T13:42:39.040149",
     "status": "completed"
    },
    "tags": []
   },
   "outputs": [
    {
     "data": {
      "text/html": [
       "<div>\n",
       "<style scoped>\n",
       "    .dataframe tbody tr th:only-of-type {\n",
       "        vertical-align: middle;\n",
       "    }\n",
       "\n",
       "    .dataframe tbody tr th {\n",
       "        vertical-align: top;\n",
       "    }\n",
       "\n",
       "    .dataframe thead th {\n",
       "        text-align: right;\n",
       "    }\n",
       "</style>\n",
       "<table border=\"1\" class=\"dataframe\">\n",
       "  <thead>\n",
       "    <tr style=\"text-align: right;\">\n",
       "      <th></th>\n",
       "      <th>PassengerId</th>\n",
       "      <th>HomePlanet</th>\n",
       "      <th>CryoSleep</th>\n",
       "      <th>Cabin</th>\n",
       "      <th>Destination</th>\n",
       "      <th>Age</th>\n",
       "      <th>VIP</th>\n",
       "      <th>RoomService</th>\n",
       "      <th>FoodCourt</th>\n",
       "      <th>ShoppingMall</th>\n",
       "      <th>Spa</th>\n",
       "      <th>VRDeck</th>\n",
       "      <th>Name</th>\n",
       "      <th>Transported</th>\n",
       "      <th>Group</th>\n",
       "      <th>People</th>\n",
       "    </tr>\n",
       "  </thead>\n",
       "  <tbody>\n",
       "    <tr>\n",
       "      <th>0</th>\n",
       "      <td>0001_01</td>\n",
       "      <td>Europa</td>\n",
       "      <td>False</td>\n",
       "      <td>B/0/P</td>\n",
       "      <td>TRAPPIST-1e</td>\n",
       "      <td>39.0</td>\n",
       "      <td>False</td>\n",
       "      <td>0.0</td>\n",
       "      <td>0.0</td>\n",
       "      <td>0.0</td>\n",
       "      <td>0.0</td>\n",
       "      <td>0.0</td>\n",
       "      <td>Maham Ofracculy</td>\n",
       "      <td>False</td>\n",
       "      <td>0001</td>\n",
       "      <td>1</td>\n",
       "    </tr>\n",
       "    <tr>\n",
       "      <th>1</th>\n",
       "      <td>0002_01</td>\n",
       "      <td>Earth</td>\n",
       "      <td>False</td>\n",
       "      <td>F/0/S</td>\n",
       "      <td>TRAPPIST-1e</td>\n",
       "      <td>24.0</td>\n",
       "      <td>False</td>\n",
       "      <td>109.0</td>\n",
       "      <td>9.0</td>\n",
       "      <td>25.0</td>\n",
       "      <td>549.0</td>\n",
       "      <td>44.0</td>\n",
       "      <td>Juanna Vines</td>\n",
       "      <td>True</td>\n",
       "      <td>0002</td>\n",
       "      <td>1</td>\n",
       "    </tr>\n",
       "    <tr>\n",
       "      <th>2</th>\n",
       "      <td>0003_01</td>\n",
       "      <td>Europa</td>\n",
       "      <td>False</td>\n",
       "      <td>A/0/S</td>\n",
       "      <td>TRAPPIST-1e</td>\n",
       "      <td>58.0</td>\n",
       "      <td>True</td>\n",
       "      <td>43.0</td>\n",
       "      <td>3576.0</td>\n",
       "      <td>0.0</td>\n",
       "      <td>6715.0</td>\n",
       "      <td>49.0</td>\n",
       "      <td>Altark Susent</td>\n",
       "      <td>False</td>\n",
       "      <td>0003</td>\n",
       "      <td>2</td>\n",
       "    </tr>\n",
       "    <tr>\n",
       "      <th>3</th>\n",
       "      <td>0003_02</td>\n",
       "      <td>Europa</td>\n",
       "      <td>False</td>\n",
       "      <td>A/0/S</td>\n",
       "      <td>TRAPPIST-1e</td>\n",
       "      <td>33.0</td>\n",
       "      <td>False</td>\n",
       "      <td>0.0</td>\n",
       "      <td>1283.0</td>\n",
       "      <td>371.0</td>\n",
       "      <td>3329.0</td>\n",
       "      <td>193.0</td>\n",
       "      <td>Solam Susent</td>\n",
       "      <td>False</td>\n",
       "      <td>0003</td>\n",
       "      <td>2</td>\n",
       "    </tr>\n",
       "    <tr>\n",
       "      <th>4</th>\n",
       "      <td>0004_01</td>\n",
       "      <td>Earth</td>\n",
       "      <td>False</td>\n",
       "      <td>F/1/S</td>\n",
       "      <td>TRAPPIST-1e</td>\n",
       "      <td>16.0</td>\n",
       "      <td>False</td>\n",
       "      <td>303.0</td>\n",
       "      <td>70.0</td>\n",
       "      <td>151.0</td>\n",
       "      <td>565.0</td>\n",
       "      <td>2.0</td>\n",
       "      <td>Willy Santantines</td>\n",
       "      <td>True</td>\n",
       "      <td>0004</td>\n",
       "      <td>1</td>\n",
       "    </tr>\n",
       "  </tbody>\n",
       "</table>\n",
       "</div>"
      ],
      "text/plain": [
       "  PassengerId HomePlanet CryoSleep  Cabin  Destination   Age    VIP  \\\n",
       "0     0001_01     Europa     False  B/0/P  TRAPPIST-1e  39.0  False   \n",
       "1     0002_01      Earth     False  F/0/S  TRAPPIST-1e  24.0  False   \n",
       "2     0003_01     Europa     False  A/0/S  TRAPPIST-1e  58.0   True   \n",
       "3     0003_02     Europa     False  A/0/S  TRAPPIST-1e  33.0  False   \n",
       "4     0004_01      Earth     False  F/1/S  TRAPPIST-1e  16.0  False   \n",
       "\n",
       "   RoomService  FoodCourt  ShoppingMall     Spa  VRDeck               Name  \\\n",
       "0          0.0        0.0           0.0     0.0     0.0    Maham Ofracculy   \n",
       "1        109.0        9.0          25.0   549.0    44.0       Juanna Vines   \n",
       "2         43.0     3576.0           0.0  6715.0    49.0      Altark Susent   \n",
       "3          0.0     1283.0         371.0  3329.0   193.0       Solam Susent   \n",
       "4        303.0       70.0         151.0   565.0     2.0  Willy Santantines   \n",
       "\n",
       "   Transported Group  People  \n",
       "0        False  0001       1  \n",
       "1         True  0002       1  \n",
       "2        False  0003       2  \n",
       "3        False  0003       2  \n",
       "4         True  0004       1  "
      ]
     },
     "execution_count": 4,
     "metadata": {},
     "output_type": "execute_result"
    }
   ],
   "source": [
    "#Extract number of people in one group\n",
    "train_group = train.groupby(\"Group\").count()['Cabin'].reset_index()\n",
    "test_group = test.groupby(\"Group\").count()['Cabin'].reset_index()\n",
    "train_group = train_group.rename(columns = {\"Cabin\":\"People\"})\n",
    "test_group = test_group.rename(columns = {\"Cabin\":\"People\"})\n",
    "train = train.merge(train_group, how=\"inner\", on=\"Group\")\n",
    "test = test.merge(test_group, how =\"inner\", on = \"Group\")\n",
    "# train['People'] = train['People'].apply(lambda x: \"More than 1\" if x > 1 else \"One\")\n",
    "# test['People'] = test['People'].apply(lambda x: \"More than 1\" if x > 1 else \"One\")\n",
    "train.head()"
   ]
  },
  {
   "cell_type": "markdown",
   "id": "c7095962",
   "metadata": {
    "execution": {
     "iopub.execute_input": "2023-10-06T12:23:21.471923Z",
     "iopub.status.busy": "2023-10-06T12:23:21.471565Z",
     "iopub.status.idle": "2023-10-06T12:23:21.478680Z",
     "shell.execute_reply": "2023-10-06T12:23:21.477269Z",
     "shell.execute_reply.started": "2023-10-06T12:23:21.471896Z"
    },
    "papermill": {
     "duration": 0.009166,
     "end_time": "2023-10-06T13:42:39.148440",
     "exception": false,
     "start_time": "2023-10-06T13:42:39.139274",
     "status": "completed"
    },
    "tags": []
   },
   "source": [
    "The cabin number where the passenger is staying. Takes the form deck/num/side, where side can be either P for Port or S for Starboard. Once again, we can extract the deck and the side of each passenger."
   ]
  },
  {
   "cell_type": "code",
   "execution_count": 5,
   "id": "fd9601cf",
   "metadata": {
    "execution": {
     "iopub.execute_input": "2023-10-06T13:42:39.168656Z",
     "iopub.status.busy": "2023-10-06T13:42:39.168281Z",
     "iopub.status.idle": "2023-10-06T13:42:39.174130Z",
     "shell.execute_reply": "2023-10-06T13:42:39.172997Z"
    },
    "papermill": {
     "duration": 0.019156,
     "end_time": "2023-10-06T13:42:39.176854",
     "exception": false,
     "start_time": "2023-10-06T13:42:39.157698",
     "status": "completed"
    },
    "tags": []
   },
   "outputs": [],
   "source": [
    "#Extract port or starboard status from the cabin\n",
    "def extract_deck(x):\n",
    "    x = str(x)\n",
    "    split_str = x.split(\"/\")\n",
    "    return split_str[0]\n",
    "def extract_side(x):\n",
    "    x = str(x)\n",
    "    split_str = x.split(\"/\")\n",
    "    return split_str[-1]"
   ]
  },
  {
   "cell_type": "code",
   "execution_count": 6,
   "id": "d46c3431",
   "metadata": {
    "execution": {
     "iopub.execute_input": "2023-10-06T13:42:39.197297Z",
     "iopub.status.busy": "2023-10-06T13:42:39.196852Z",
     "iopub.status.idle": "2023-10-06T13:42:39.235687Z",
     "shell.execute_reply": "2023-10-06T13:42:39.234912Z"
    },
    "papermill": {
     "duration": 0.051837,
     "end_time": "2023-10-06T13:42:39.237991",
     "exception": false,
     "start_time": "2023-10-06T13:42:39.186154",
     "status": "completed"
    },
    "tags": []
   },
   "outputs": [
    {
     "data": {
      "text/html": [
       "<div>\n",
       "<style scoped>\n",
       "    .dataframe tbody tr th:only-of-type {\n",
       "        vertical-align: middle;\n",
       "    }\n",
       "\n",
       "    .dataframe tbody tr th {\n",
       "        vertical-align: top;\n",
       "    }\n",
       "\n",
       "    .dataframe thead th {\n",
       "        text-align: right;\n",
       "    }\n",
       "</style>\n",
       "<table border=\"1\" class=\"dataframe\">\n",
       "  <thead>\n",
       "    <tr style=\"text-align: right;\">\n",
       "      <th></th>\n",
       "      <th>PassengerId</th>\n",
       "      <th>HomePlanet</th>\n",
       "      <th>CryoSleep</th>\n",
       "      <th>Cabin</th>\n",
       "      <th>Destination</th>\n",
       "      <th>Age</th>\n",
       "      <th>VIP</th>\n",
       "      <th>RoomService</th>\n",
       "      <th>FoodCourt</th>\n",
       "      <th>ShoppingMall</th>\n",
       "      <th>Spa</th>\n",
       "      <th>VRDeck</th>\n",
       "      <th>Name</th>\n",
       "      <th>Transported</th>\n",
       "      <th>Group</th>\n",
       "      <th>People</th>\n",
       "      <th>Deck</th>\n",
       "      <th>Side</th>\n",
       "    </tr>\n",
       "  </thead>\n",
       "  <tbody>\n",
       "    <tr>\n",
       "      <th>0</th>\n",
       "      <td>0001_01</td>\n",
       "      <td>Europa</td>\n",
       "      <td>False</td>\n",
       "      <td>B/0/P</td>\n",
       "      <td>TRAPPIST-1e</td>\n",
       "      <td>39.0</td>\n",
       "      <td>False</td>\n",
       "      <td>0.0</td>\n",
       "      <td>0.0</td>\n",
       "      <td>0.0</td>\n",
       "      <td>0.0</td>\n",
       "      <td>0.0</td>\n",
       "      <td>Maham Ofracculy</td>\n",
       "      <td>False</td>\n",
       "      <td>0001</td>\n",
       "      <td>1</td>\n",
       "      <td>B</td>\n",
       "      <td>P</td>\n",
       "    </tr>\n",
       "    <tr>\n",
       "      <th>1</th>\n",
       "      <td>0002_01</td>\n",
       "      <td>Earth</td>\n",
       "      <td>False</td>\n",
       "      <td>F/0/S</td>\n",
       "      <td>TRAPPIST-1e</td>\n",
       "      <td>24.0</td>\n",
       "      <td>False</td>\n",
       "      <td>109.0</td>\n",
       "      <td>9.0</td>\n",
       "      <td>25.0</td>\n",
       "      <td>549.0</td>\n",
       "      <td>44.0</td>\n",
       "      <td>Juanna Vines</td>\n",
       "      <td>True</td>\n",
       "      <td>0002</td>\n",
       "      <td>1</td>\n",
       "      <td>F</td>\n",
       "      <td>S</td>\n",
       "    </tr>\n",
       "    <tr>\n",
       "      <th>2</th>\n",
       "      <td>0003_01</td>\n",
       "      <td>Europa</td>\n",
       "      <td>False</td>\n",
       "      <td>A/0/S</td>\n",
       "      <td>TRAPPIST-1e</td>\n",
       "      <td>58.0</td>\n",
       "      <td>True</td>\n",
       "      <td>43.0</td>\n",
       "      <td>3576.0</td>\n",
       "      <td>0.0</td>\n",
       "      <td>6715.0</td>\n",
       "      <td>49.0</td>\n",
       "      <td>Altark Susent</td>\n",
       "      <td>False</td>\n",
       "      <td>0003</td>\n",
       "      <td>2</td>\n",
       "      <td>A</td>\n",
       "      <td>S</td>\n",
       "    </tr>\n",
       "    <tr>\n",
       "      <th>3</th>\n",
       "      <td>0003_02</td>\n",
       "      <td>Europa</td>\n",
       "      <td>False</td>\n",
       "      <td>A/0/S</td>\n",
       "      <td>TRAPPIST-1e</td>\n",
       "      <td>33.0</td>\n",
       "      <td>False</td>\n",
       "      <td>0.0</td>\n",
       "      <td>1283.0</td>\n",
       "      <td>371.0</td>\n",
       "      <td>3329.0</td>\n",
       "      <td>193.0</td>\n",
       "      <td>Solam Susent</td>\n",
       "      <td>False</td>\n",
       "      <td>0003</td>\n",
       "      <td>2</td>\n",
       "      <td>A</td>\n",
       "      <td>S</td>\n",
       "    </tr>\n",
       "    <tr>\n",
       "      <th>4</th>\n",
       "      <td>0004_01</td>\n",
       "      <td>Earth</td>\n",
       "      <td>False</td>\n",
       "      <td>F/1/S</td>\n",
       "      <td>TRAPPIST-1e</td>\n",
       "      <td>16.0</td>\n",
       "      <td>False</td>\n",
       "      <td>303.0</td>\n",
       "      <td>70.0</td>\n",
       "      <td>151.0</td>\n",
       "      <td>565.0</td>\n",
       "      <td>2.0</td>\n",
       "      <td>Willy Santantines</td>\n",
       "      <td>True</td>\n",
       "      <td>0004</td>\n",
       "      <td>1</td>\n",
       "      <td>F</td>\n",
       "      <td>S</td>\n",
       "    </tr>\n",
       "    <tr>\n",
       "      <th>...</th>\n",
       "      <td>...</td>\n",
       "      <td>...</td>\n",
       "      <td>...</td>\n",
       "      <td>...</td>\n",
       "      <td>...</td>\n",
       "      <td>...</td>\n",
       "      <td>...</td>\n",
       "      <td>...</td>\n",
       "      <td>...</td>\n",
       "      <td>...</td>\n",
       "      <td>...</td>\n",
       "      <td>...</td>\n",
       "      <td>...</td>\n",
       "      <td>...</td>\n",
       "      <td>...</td>\n",
       "      <td>...</td>\n",
       "      <td>...</td>\n",
       "      <td>...</td>\n",
       "    </tr>\n",
       "    <tr>\n",
       "      <th>8688</th>\n",
       "      <td>9276_01</td>\n",
       "      <td>Europa</td>\n",
       "      <td>False</td>\n",
       "      <td>A/98/P</td>\n",
       "      <td>55 Cancri e</td>\n",
       "      <td>41.0</td>\n",
       "      <td>True</td>\n",
       "      <td>0.0</td>\n",
       "      <td>6819.0</td>\n",
       "      <td>0.0</td>\n",
       "      <td>1643.0</td>\n",
       "      <td>74.0</td>\n",
       "      <td>Gravior Noxnuther</td>\n",
       "      <td>False</td>\n",
       "      <td>9276</td>\n",
       "      <td>1</td>\n",
       "      <td>A</td>\n",
       "      <td>P</td>\n",
       "    </tr>\n",
       "    <tr>\n",
       "      <th>8689</th>\n",
       "      <td>9278_01</td>\n",
       "      <td>Earth</td>\n",
       "      <td>True</td>\n",
       "      <td>G/1499/S</td>\n",
       "      <td>PSO J318.5-22</td>\n",
       "      <td>18.0</td>\n",
       "      <td>False</td>\n",
       "      <td>0.0</td>\n",
       "      <td>0.0</td>\n",
       "      <td>0.0</td>\n",
       "      <td>0.0</td>\n",
       "      <td>0.0</td>\n",
       "      <td>Kurta Mondalley</td>\n",
       "      <td>False</td>\n",
       "      <td>9278</td>\n",
       "      <td>1</td>\n",
       "      <td>G</td>\n",
       "      <td>S</td>\n",
       "    </tr>\n",
       "    <tr>\n",
       "      <th>8690</th>\n",
       "      <td>9279_01</td>\n",
       "      <td>Earth</td>\n",
       "      <td>False</td>\n",
       "      <td>G/1500/S</td>\n",
       "      <td>TRAPPIST-1e</td>\n",
       "      <td>26.0</td>\n",
       "      <td>False</td>\n",
       "      <td>0.0</td>\n",
       "      <td>0.0</td>\n",
       "      <td>1872.0</td>\n",
       "      <td>1.0</td>\n",
       "      <td>0.0</td>\n",
       "      <td>Fayey Connon</td>\n",
       "      <td>True</td>\n",
       "      <td>9279</td>\n",
       "      <td>1</td>\n",
       "      <td>G</td>\n",
       "      <td>S</td>\n",
       "    </tr>\n",
       "    <tr>\n",
       "      <th>8691</th>\n",
       "      <td>9280_01</td>\n",
       "      <td>Europa</td>\n",
       "      <td>False</td>\n",
       "      <td>E/608/S</td>\n",
       "      <td>55 Cancri e</td>\n",
       "      <td>32.0</td>\n",
       "      <td>False</td>\n",
       "      <td>0.0</td>\n",
       "      <td>1049.0</td>\n",
       "      <td>0.0</td>\n",
       "      <td>353.0</td>\n",
       "      <td>3235.0</td>\n",
       "      <td>Celeon Hontichre</td>\n",
       "      <td>False</td>\n",
       "      <td>9280</td>\n",
       "      <td>2</td>\n",
       "      <td>E</td>\n",
       "      <td>S</td>\n",
       "    </tr>\n",
       "    <tr>\n",
       "      <th>8692</th>\n",
       "      <td>9280_02</td>\n",
       "      <td>Europa</td>\n",
       "      <td>False</td>\n",
       "      <td>E/608/S</td>\n",
       "      <td>TRAPPIST-1e</td>\n",
       "      <td>44.0</td>\n",
       "      <td>False</td>\n",
       "      <td>126.0</td>\n",
       "      <td>4688.0</td>\n",
       "      <td>0.0</td>\n",
       "      <td>0.0</td>\n",
       "      <td>12.0</td>\n",
       "      <td>Propsh Hontichre</td>\n",
       "      <td>True</td>\n",
       "      <td>9280</td>\n",
       "      <td>2</td>\n",
       "      <td>E</td>\n",
       "      <td>S</td>\n",
       "    </tr>\n",
       "  </tbody>\n",
       "</table>\n",
       "<p>8693 rows × 18 columns</p>\n",
       "</div>"
      ],
      "text/plain": [
       "     PassengerId HomePlanet CryoSleep     Cabin    Destination   Age    VIP  \\\n",
       "0        0001_01     Europa     False     B/0/P    TRAPPIST-1e  39.0  False   \n",
       "1        0002_01      Earth     False     F/0/S    TRAPPIST-1e  24.0  False   \n",
       "2        0003_01     Europa     False     A/0/S    TRAPPIST-1e  58.0   True   \n",
       "3        0003_02     Europa     False     A/0/S    TRAPPIST-1e  33.0  False   \n",
       "4        0004_01      Earth     False     F/1/S    TRAPPIST-1e  16.0  False   \n",
       "...          ...        ...       ...       ...            ...   ...    ...   \n",
       "8688     9276_01     Europa     False    A/98/P    55 Cancri e  41.0   True   \n",
       "8689     9278_01      Earth      True  G/1499/S  PSO J318.5-22  18.0  False   \n",
       "8690     9279_01      Earth     False  G/1500/S    TRAPPIST-1e  26.0  False   \n",
       "8691     9280_01     Europa     False   E/608/S    55 Cancri e  32.0  False   \n",
       "8692     9280_02     Europa     False   E/608/S    TRAPPIST-1e  44.0  False   \n",
       "\n",
       "      RoomService  FoodCourt  ShoppingMall     Spa  VRDeck               Name  \\\n",
       "0             0.0        0.0           0.0     0.0     0.0    Maham Ofracculy   \n",
       "1           109.0        9.0          25.0   549.0    44.0       Juanna Vines   \n",
       "2            43.0     3576.0           0.0  6715.0    49.0      Altark Susent   \n",
       "3             0.0     1283.0         371.0  3329.0   193.0       Solam Susent   \n",
       "4           303.0       70.0         151.0   565.0     2.0  Willy Santantines   \n",
       "...           ...        ...           ...     ...     ...                ...   \n",
       "8688          0.0     6819.0           0.0  1643.0    74.0  Gravior Noxnuther   \n",
       "8689          0.0        0.0           0.0     0.0     0.0    Kurta Mondalley   \n",
       "8690          0.0        0.0        1872.0     1.0     0.0       Fayey Connon   \n",
       "8691          0.0     1049.0           0.0   353.0  3235.0   Celeon Hontichre   \n",
       "8692        126.0     4688.0           0.0     0.0    12.0   Propsh Hontichre   \n",
       "\n",
       "      Transported Group  People Deck Side  \n",
       "0           False  0001       1    B    P  \n",
       "1            True  0002       1    F    S  \n",
       "2           False  0003       2    A    S  \n",
       "3           False  0003       2    A    S  \n",
       "4            True  0004       1    F    S  \n",
       "...           ...   ...     ...  ...  ...  \n",
       "8688        False  9276       1    A    P  \n",
       "8689        False  9278       1    G    S  \n",
       "8690         True  9279       1    G    S  \n",
       "8691        False  9280       2    E    S  \n",
       "8692         True  9280       2    E    S  \n",
       "\n",
       "[8693 rows x 18 columns]"
      ]
     },
     "execution_count": 6,
     "metadata": {},
     "output_type": "execute_result"
    }
   ],
   "source": [
    "train['Cabin'] = train['Cabin'].apply(str)\n",
    "train['Deck'] = train[\"Cabin\"].apply(extract_deck)\n",
    "test['Deck'] = test[\"Cabin\"].apply(extract_deck)\n",
    "train['Side'] = train[\"Cabin\"].apply(extract_side)\n",
    "test['Side'] = test[\"Cabin\"].apply(extract_side)\n",
    "train"
   ]
  },
  {
   "cell_type": "code",
   "execution_count": 7,
   "id": "6ca8d42b",
   "metadata": {
    "execution": {
     "iopub.execute_input": "2023-10-06T13:42:39.259465Z",
     "iopub.status.busy": "2023-10-06T13:42:39.259103Z",
     "iopub.status.idle": "2023-10-06T13:42:39.272436Z",
     "shell.execute_reply": "2023-10-06T13:42:39.271645Z"
    },
    "papermill": {
     "duration": 0.026898,
     "end_time": "2023-10-06T13:42:39.274475",
     "exception": false,
     "start_time": "2023-10-06T13:42:39.247577",
     "status": "completed"
    },
    "tags": []
   },
   "outputs": [
    {
     "data": {
      "text/plain": [
       "['HomePlanet',\n",
       " 'CryoSleep',\n",
       " 'Cabin',\n",
       " 'Destination',\n",
       " 'VIP',\n",
       " 'Name',\n",
       " 'Group',\n",
       " 'Deck',\n",
       " 'Side']"
      ]
     },
     "execution_count": 7,
     "metadata": {},
     "output_type": "execute_result"
    }
   ],
   "source": [
    "#Set index back to \"PassengerId\"\n",
    "train = train.set_index(\"PassengerId\")\n",
    "test = test.set_index(\"PassengerId\")\n",
    "categorical_cols = [cols for cols in train if train[cols].dtype == \"object\"]\n",
    "categorical_cols"
   ]
  },
  {
   "cell_type": "markdown",
   "id": "4e4effb3",
   "metadata": {
    "papermill": {
     "duration": 0.009504,
     "end_time": "2023-10-06T13:42:39.294604",
     "exception": false,
     "start_time": "2023-10-06T13:42:39.285100",
     "status": "completed"
    },
    "tags": []
   },
   "source": [
    "First, let's analyse the distribution of the transported values based on different categorical variables. First off, we analyse \"Homeplantet\"."
   ]
  },
  {
   "cell_type": "code",
   "execution_count": 8,
   "id": "15d10f4b",
   "metadata": {
    "execution": {
     "iopub.execute_input": "2023-10-06T13:42:39.316959Z",
     "iopub.status.busy": "2023-10-06T13:42:39.316410Z",
     "iopub.status.idle": "2023-10-06T13:42:39.660530Z",
     "shell.execute_reply": "2023-10-06T13:42:39.659122Z"
    },
    "papermill": {
     "duration": 0.358589,
     "end_time": "2023-10-06T13:42:39.663371",
     "exception": false,
     "start_time": "2023-10-06T13:42:39.304782",
     "status": "completed"
    },
    "tags": []
   },
   "outputs": [
    {
     "data": {
      "text/plain": [
       "<Axes: xlabel='Transported', ylabel='count'>"
      ]
     },
     "execution_count": 8,
     "metadata": {},
     "output_type": "execute_result"
    },
    {
     "data": {
      "image/png": "[encoded data removed]",
      "text/plain": [
       "<Figure size 640x480 with 1 Axes>"
      ]
     },
     "metadata": {},
     "output_type": "display_data"
    }
   ],
   "source": [
    "sns.countplot(x=\"Transported\", data = train, hue = \"HomePlanet\")"
   ]
  },
  {
   "cell_type": "markdown",
   "id": "cefd182d",
   "metadata": {
    "papermill": {
     "duration": 0.009822,
     "end_time": "2023-10-06T13:42:39.683999",
     "exception": false,
     "start_time": "2023-10-06T13:42:39.674177",
     "status": "completed"
    },
    "tags": []
   },
   "source": [
    "Based on this, we can conclude that passengers who came from Earth are less likely to be transported. Next, we analyse \"CryoSleep\""
   ]
  },
  {
   "cell_type": "code",
   "execution_count": 9,
   "id": "e7cf5457",
   "metadata": {
    "execution": {
     "iopub.execute_input": "2023-10-06T13:42:39.708068Z",
     "iopub.status.busy": "2023-10-06T13:42:39.707649Z",
     "iopub.status.idle": "2023-10-06T13:42:39.976260Z",
     "shell.execute_reply": "2023-10-06T13:42:39.975312Z"
    },
    "papermill": {
     "duration": 0.2842,
     "end_time": "2023-10-06T13:42:39.978391",
     "exception": false,
     "start_time": "2023-10-06T13:42:39.694191",
     "status": "completed"
    },
    "tags": []
   },
   "outputs": [
    {
     "data": {
      "text/plain": [
       "<Axes: xlabel='Transported', ylabel='count'>"
      ]
     },
     "execution_count": 9,
     "metadata": {},
     "output_type": "execute_result"
    },
    {
     "data": {
      "image/png": "[encoded data removed]",
      "text/plain": [
       "<Figure size 640x480 with 1 Axes>"
      ]
     },
     "metadata": {},
     "output_type": "display_data"
    }
   ],
   "source": [
    "sns.countplot(x=\"Transported\", data=train,hue=\"CryoSleep\")"
   ]
  },
  {
   "cell_type": "markdown",
   "id": "e29c8c1d",
   "metadata": {
    "papermill": {
     "duration": 0.010148,
     "end_time": "2023-10-06T13:42:39.999314",
     "exception": false,
     "start_time": "2023-10-06T13:42:39.989166",
     "status": "completed"
    },
    "tags": []
   },
   "source": [
    "Passengers who are not in cryosleep are less likely to be transported. Next off, we analyse \"Destination\"."
   ]
  },
  {
   "cell_type": "code",
   "execution_count": 10,
   "id": "dc463f38",
   "metadata": {
    "execution": {
     "iopub.execute_input": "2023-10-06T13:42:40.023850Z",
     "iopub.status.busy": "2023-10-06T13:42:40.023496Z",
     "iopub.status.idle": "2023-10-06T13:42:40.297604Z",
     "shell.execute_reply": "2023-10-06T13:42:40.296333Z"
    },
    "papermill": {
     "duration": 0.289308,
     "end_time": "2023-10-06T13:42:40.299909",
     "exception": false,
     "start_time": "2023-10-06T13:42:40.010601",
     "status": "completed"
    },
    "tags": []
   },
   "outputs": [
    {
     "data": {
      "text/plain": [
       "<Axes: xlabel='Transported', ylabel='count'>"
      ]
     },
     "execution_count": 10,
     "metadata": {},
     "output_type": "execute_result"
    },
    {
     "data": {
      "image/png": "[encoded data removed]",
      "text/plain": [
       "<Figure size 640x480 with 1 Axes>"
      ]
     },
     "metadata": {},
     "output_type": "display_data"
    }
   ],
   "source": [
    "sns.countplot(x=\"Transported\", data=train, hue=\"Destination\")"
   ]
  },
  {
   "cell_type": "markdown",
   "id": "a0f67c2e",
   "metadata": {
    "papermill": {
     "duration": 0.010237,
     "end_time": "2023-10-06T13:42:40.320943",
     "exception": false,
     "start_time": "2023-10-06T13:42:40.310706",
     "status": "completed"
    },
    "tags": []
   },
   "source": [
    "From this, we can conclude that passengers are equally likely to be transported regardless of their destinaations. We can probably drop this feature. Next, we analyse \"VIP\"."
   ]
  },
  {
   "cell_type": "code",
   "execution_count": 11,
   "id": "f5dad395",
   "metadata": {
    "execution": {
     "iopub.execute_input": "2023-10-06T13:42:40.344055Z",
     "iopub.status.busy": "2023-10-06T13:42:40.343227Z",
     "iopub.status.idle": "2023-10-06T13:42:40.613081Z",
     "shell.execute_reply": "2023-10-06T13:42:40.612017Z"
    },
    "papermill": {
     "duration": 0.283858,
     "end_time": "2023-10-06T13:42:40.615179",
     "exception": false,
     "start_time": "2023-10-06T13:42:40.331321",
     "status": "completed"
    },
    "tags": []
   },
   "outputs": [
    {
     "data": {
      "text/plain": [
       "<Axes: xlabel='Transported', ylabel='count'>"
      ]
     },
     "execution_count": 11,
     "metadata": {},
     "output_type": "execute_result"
    },
    {
     "data": {
      "image/png": "[encoded data removed]",
      "text/plain": [
       "<Figure size 640x480 with 1 Axes>"
      ]
     },
     "metadata": {},
     "output_type": "display_data"
    }
   ],
   "source": [
    "sns.countplot(x=\"Transported\", data=train, hue=\"VIP\")"
   ]
  },
  {
   "cell_type": "markdown",
   "id": "02c793e5",
   "metadata": {
    "papermill": {
     "duration": 0.011435,
     "end_time": "2023-10-06T13:42:40.638061",
     "exception": false,
     "start_time": "2023-10-06T13:42:40.626626",
     "status": "completed"
    },
    "tags": []
   },
   "source": [
    "Once again, passengers are equally likely to be transported no regardless of whether they paid for the VIP package or not. We can probably drop this feature too. Next, we analyse \"People\"."
   ]
  },
  {
   "cell_type": "code",
   "execution_count": 12,
   "id": "e5931345",
   "metadata": {
    "execution": {
     "iopub.execute_input": "2023-10-06T13:42:40.663451Z",
     "iopub.status.busy": "2023-10-06T13:42:40.662841Z",
     "iopub.status.idle": "2023-10-06T13:42:41.010528Z",
     "shell.execute_reply": "2023-10-06T13:42:41.009361Z"
    },
    "papermill": {
     "duration": 0.363119,
     "end_time": "2023-10-06T13:42:41.012650",
     "exception": false,
     "start_time": "2023-10-06T13:42:40.649531",
     "status": "completed"
    },
    "tags": []
   },
   "outputs": [
    {
     "data": {
      "text/plain": [
       "<Axes: xlabel='Transported', ylabel='count'>"
      ]
     },
     "execution_count": 12,
     "metadata": {},
     "output_type": "execute_result"
    },
    {
     "data": {
      "image/png": "[encoded data removed]",
      "text/plain": [
       "<Figure size 640x480 with 1 Axes>"
      ]
     },
     "metadata": {},
     "output_type": "display_data"
    }
   ],
   "source": [
    "sns.countplot(x=\"Transported\",data=train,hue=\"People\")"
   ]
  },
  {
   "cell_type": "markdown",
   "id": "9ef350dd",
   "metadata": {
    "papermill": {
     "duration": 0.011174,
     "end_time": "2023-10-06T13:42:41.035388",
     "exception": false,
     "start_time": "2023-10-06T13:42:41.024214",
     "status": "completed"
    },
    "tags": []
   },
   "source": [
    "People who travel in a group are more likely to be transported? Next we analyse the \"Deck\" feature."
   ]
  },
  {
   "cell_type": "code",
   "execution_count": 13,
   "id": "3b199d48",
   "metadata": {
    "execution": {
     "iopub.execute_input": "2023-10-06T13:42:41.060456Z",
     "iopub.status.busy": "2023-10-06T13:42:41.060072Z",
     "iopub.status.idle": "2023-10-06T13:42:41.436190Z",
     "shell.execute_reply": "2023-10-06T13:42:41.435148Z"
    },
    "papermill": {
     "duration": 0.390955,
     "end_time": "2023-10-06T13:42:41.438316",
     "exception": false,
     "start_time": "2023-10-06T13:42:41.047361",
     "status": "completed"
    },
    "tags": []
   },
   "outputs": [
    {
     "data": {
      "text/plain": [
       "<Axes: xlabel='Transported', ylabel='count'>"
      ]
     },
     "execution_count": 13,
     "metadata": {},
     "output_type": "execute_result"
    },
    {
     "data": {
      "image/png": "[encoded data removed]",
      "text/plain": [
       "<Figure size 640x480 with 1 Axes>"
      ]
     },
     "metadata": {},
     "output_type": "display_data"
    }
   ],
   "source": [
    "sns.countplot(x=\"Transported\", data=train, hue=\"Deck\")"
   ]
  },
  {
   "cell_type": "code",
   "execution_count": 14,
   "id": "b4637469",
   "metadata": {
    "execution": {
     "iopub.execute_input": "2023-10-06T13:42:41.465180Z",
     "iopub.status.busy": "2023-10-06T13:42:41.464084Z",
     "iopub.status.idle": "2023-10-06T13:42:41.720088Z",
     "shell.execute_reply": "2023-10-06T13:42:41.719021Z"
    },
    "papermill": {
     "duration": 0.271904,
     "end_time": "2023-10-06T13:42:41.722444",
     "exception": false,
     "start_time": "2023-10-06T13:42:41.450540",
     "status": "completed"
    },
    "tags": []
   },
   "outputs": [
    {
     "data": {
      "text/plain": [
       "<Axes: xlabel='Transported', ylabel='count'>"
      ]
     },
     "execution_count": 14,
     "metadata": {},
     "output_type": "execute_result"
    },
    {
     "data": {
      "image/png": "[encoded data removed]",
      "text/plain": [
       "<Figure size 640x480 with 1 Axes>"
      ]
     },
     "metadata": {},
     "output_type": "display_data"
    }
   ],
   "source": [
    "sns.countplot(x=\"Transported\", data=train, hue=\"Side\")"
   ]
  },
  {
   "cell_type": "markdown",
   "id": "6c31e70c",
   "metadata": {
    "papermill": {
     "duration": 0.011981,
     "end_time": "2023-10-06T13:42:41.746720",
     "exception": false,
     "start_time": "2023-10-06T13:42:41.734739",
     "status": "completed"
    },
    "tags": []
   },
   "source": [
    "The passengers who belong to the side \"S\" are more likely to be transported. Next we can analyse the different numerical features."
   ]
  },
  {
   "cell_type": "code",
   "execution_count": 15,
   "id": "c0056e29",
   "metadata": {
    "execution": {
     "iopub.execute_input": "2023-10-06T13:42:41.773721Z",
     "iopub.status.busy": "2023-10-06T13:42:41.773141Z",
     "iopub.status.idle": "2023-10-06T13:42:42.293565Z",
     "shell.execute_reply": "2023-10-06T13:42:42.292324Z"
    },
    "papermill": {
     "duration": 0.536836,
     "end_time": "2023-10-06T13:42:42.295841",
     "exception": false,
     "start_time": "2023-10-06T13:42:41.759005",
     "status": "completed"
    },
    "tags": []
   },
   "outputs": [
    {
     "name": "stderr",
     "output_type": "stream",
     "text": [
      "/tmp/ipykernel_20/1534458401.py:1: FutureWarning: The default value of numeric_only in DataFrame.corr is deprecated. In a future version, it will default to False. Select only valid columns or specify the value of numeric_only to silence this warning.\n",
      "  sns.heatmap(train.corr(), annot=True)\n"
     ]
    },
    {
     "data": {
      "text/plain": [
       "<Axes: >"
      ]
     },
     "execution_count": 15,
     "metadata": {},
     "output_type": "execute_result"
    },
    {
     "data": {
      "image/png": "[encoded data removed]",
      "text/plain": [
       "<Figure size 640x480 with 2 Axes>"
      ]
     },
     "metadata": {},
     "output_type": "display_data"
    }
   ],
   "source": [
    "sns.heatmap(train.corr(), annot=True)"
   ]
  },
  {
   "cell_type": "code",
   "execution_count": 16,
   "id": "5f2c8585",
   "metadata": {
    "execution": {
     "iopub.execute_input": "2023-10-06T13:42:42.326931Z",
     "iopub.status.busy": "2023-10-06T13:42:42.326278Z",
     "iopub.status.idle": "2023-10-06T13:42:42.725215Z",
     "shell.execute_reply": "2023-10-06T13:42:42.724130Z"
    },
    "papermill": {
     "duration": 0.416777,
     "end_time": "2023-10-06T13:42:42.727308",
     "exception": false,
     "start_time": "2023-10-06T13:42:42.310531",
     "status": "completed"
    },
    "tags": []
   },
   "outputs": [
    {
     "name": "stderr",
     "output_type": "stream",
     "text": [
      "/opt/conda/lib/python3.10/site-packages/seaborn/axisgrid.py:118: UserWarning: The figure layout has changed to tight\n",
      "  self._figure.tight_layout(*args, **kwargs)\n"
     ]
    },
    {
     "data": {
      "text/plain": [
       "<seaborn.axisgrid.FacetGrid at 0x7c41e0bb5a20>"
      ]
     },
     "execution_count": 16,
     "metadata": {},
     "output_type": "execute_result"
    },
    {
     "data": {
      "image/png": "[encoded data removed]",
      "text/plain": [
       "<Figure size 500x500 with 1 Axes>"
      ]
     },
     "metadata": {},
     "output_type": "display_data"
    }
   ],
   "source": [
    "sns.displot(x=\"Age\", data=train, bins = 2)"
   ]
  },
  {
   "cell_type": "markdown",
   "id": "69e9b6c3",
   "metadata": {
    "papermill": {
     "duration": 0.014085,
     "end_time": "2023-10-06T13:42:42.755969",
     "exception": false,
     "start_time": "2023-10-06T13:42:42.741884",
     "status": "completed"
    },
    "tags": []
   },
   "source": [
    "Based on this, we can conclude that "
   ]
  },
  {
   "cell_type": "code",
   "execution_count": 17,
   "id": "a6c55d10",
   "metadata": {
    "execution": {
     "iopub.execute_input": "2023-10-06T13:42:42.787049Z",
     "iopub.status.busy": "2023-10-06T13:42:42.786120Z",
     "iopub.status.idle": "2023-10-06T13:42:42.791610Z",
     "shell.execute_reply": "2023-10-06T13:42:42.790482Z"
    },
    "papermill": {
     "duration": 0.023102,
     "end_time": "2023-10-06T13:42:42.793520",
     "exception": false,
     "start_time": "2023-10-06T13:42:42.770418",
     "status": "completed"
    },
    "tags": []
   },
   "outputs": [],
   "source": [
    "def age_groups(x):\n",
    "    if x >= 40:\n",
    "        return \"Above or equal 40\"\n",
    "    else:\n",
    "        return \"Below 40\""
   ]
  },
  {
   "cell_type": "code",
   "execution_count": 18,
   "id": "95bca4c6",
   "metadata": {
    "execution": {
     "iopub.execute_input": "2023-10-06T13:42:42.828676Z",
     "iopub.status.busy": "2023-10-06T13:42:42.827843Z",
     "iopub.status.idle": "2023-10-06T13:42:42.836804Z",
     "shell.execute_reply": "2023-10-06T13:42:42.835737Z"
    },
    "papermill": {
     "duration": 0.026631,
     "end_time": "2023-10-06T13:42:42.839021",
     "exception": false,
     "start_time": "2023-10-06T13:42:42.812390",
     "status": "completed"
    },
    "tags": []
   },
   "outputs": [],
   "source": [
    "train['Age Group'] = train['Age'].apply(age_groups)\n",
    "test['Age Group'] = test['Age'].apply(age_groups)"
   ]
  },
  {
   "cell_type": "markdown",
   "id": "78528268",
   "metadata": {
    "papermill": {
     "duration": 0.01472,
     "end_time": "2023-10-06T13:42:42.868653",
     "exception": false,
     "start_time": "2023-10-06T13:42:42.853933",
     "status": "completed"
    },
    "tags": []
   },
   "source": [
    "Let's analyse how the effects of the different age groups on the \"Transported\" feature."
   ]
  },
  {
   "cell_type": "code",
   "execution_count": 19,
   "id": "015ffb00",
   "metadata": {
    "execution": {
     "iopub.execute_input": "2023-10-06T13:42:42.899683Z",
     "iopub.status.busy": "2023-10-06T13:42:42.899043Z",
     "iopub.status.idle": "2023-10-06T13:42:43.161499Z",
     "shell.execute_reply": "2023-10-06T13:42:43.160792Z"
    },
    "papermill": {
     "duration": 0.280126,
     "end_time": "2023-10-06T13:42:43.163379",
     "exception": false,
     "start_time": "2023-10-06T13:42:42.883253",
     "status": "completed"
    },
    "tags": []
   },
   "outputs": [
    {
     "data": {
      "text/plain": [
       "<Axes: xlabel='Transported', ylabel='count'>"
      ]
     },
     "execution_count": 19,
     "metadata": {},
     "output_type": "execute_result"
    },
    {
     "data": {
      "image/png": "[encoded data removed]",
      "text/plain": [
       "<Figure size 640x480 with 1 Axes>"
      ]
     },
     "metadata": {},
     "output_type": "display_data"
    }
   ],
   "source": [
    "sns.countplot(x=\"Transported\", data = train, hue = \"Age Group\")"
   ]
  },
  {
   "cell_type": "markdown",
   "id": "036afff8",
   "metadata": {
    "papermill": {
     "duration": 0.014597,
     "end_time": "2023-10-06T13:42:43.192671",
     "exception": false,
     "start_time": "2023-10-06T13:42:43.178074",
     "status": "completed"
    },
    "tags": []
   },
   "source": [
    "This shows that different age groups are equally likely to be transported. Furthermore, since there is a low correlation between transported and age, we can probably remove the age and age group features."
   ]
  },
  {
   "cell_type": "code",
   "execution_count": 20,
   "id": "f51e4fb7",
   "metadata": {
    "execution": {
     "iopub.execute_input": "2023-10-06T13:42:43.224967Z",
     "iopub.status.busy": "2023-10-06T13:42:43.224329Z",
     "iopub.status.idle": "2023-10-06T13:42:43.806153Z",
     "shell.execute_reply": "2023-10-06T13:42:43.804979Z"
    },
    "papermill": {
     "duration": 0.600804,
     "end_time": "2023-10-06T13:42:43.808450",
     "exception": false,
     "start_time": "2023-10-06T13:42:43.207646",
     "status": "completed"
    },
    "tags": []
   },
   "outputs": [
    {
     "name": "stderr",
     "output_type": "stream",
     "text": [
      "/opt/conda/lib/python3.10/site-packages/seaborn/axisgrid.py:118: UserWarning: The figure layout has changed to tight\n",
      "  self._figure.tight_layout(*args, **kwargs)\n"
     ]
    },
    {
     "data": {
      "text/plain": [
       "<seaborn.axisgrid.FacetGrid at 0x7c41e0e2ef50>"
      ]
     },
     "execution_count": 20,
     "metadata": {},
     "output_type": "execute_result"
    },
    {
     "data": {
      "image/png": "[encoded data removed]",
      "text/plain": [
       "<Figure size 500x500 with 1 Axes>"
      ]
     },
     "metadata": {},
     "output_type": "display_data"
    }
   ],
   "source": [
    "sns.displot(x=\"RoomService\", data=train, bins = 10)"
   ]
  },
  {
   "cell_type": "code",
   "execution_count": 21,
   "id": "9d56f42c",
   "metadata": {
    "execution": {
     "iopub.execute_input": "2023-10-06T13:42:43.841213Z",
     "iopub.status.busy": "2023-10-06T13:42:43.840862Z",
     "iopub.status.idle": "2023-10-06T13:42:44.246212Z",
     "shell.execute_reply": "2023-10-06T13:42:44.245123Z"
    },
    "papermill": {
     "duration": 0.424602,
     "end_time": "2023-10-06T13:42:44.248414",
     "exception": false,
     "start_time": "2023-10-06T13:42:43.823812",
     "status": "completed"
    },
    "tags": []
   },
   "outputs": [
    {
     "name": "stderr",
     "output_type": "stream",
     "text": [
      "/opt/conda/lib/python3.10/site-packages/seaborn/axisgrid.py:118: UserWarning: The figure layout has changed to tight\n",
      "  self._figure.tight_layout(*args, **kwargs)\n"
     ]
    },
    {
     "data": {
      "text/plain": [
       "<seaborn.axisgrid.FacetGrid at 0x7c41e0bb61a0>"
      ]
     },
     "execution_count": 21,
     "metadata": {},
     "output_type": "execute_result"
    },
    {
     "data": {
      "image/png": "[encoded data removed]",
      "text/plain": [
       "<Figure size 500x500 with 1 Axes>"
      ]
     },
     "metadata": {},
     "output_type": "display_data"
    }
   ],
   "source": [
    "sns.displot(x=\"FoodCourt\", data=train, bins = 10)"
   ]
  },
  {
   "cell_type": "code",
   "execution_count": 22,
   "id": "84c67f42",
   "metadata": {
    "execution": {
     "iopub.execute_input": "2023-10-06T13:42:44.281430Z",
     "iopub.status.busy": "2023-10-06T13:42:44.281036Z",
     "iopub.status.idle": "2023-10-06T13:42:44.581371Z",
     "shell.execute_reply": "2023-10-06T13:42:44.580307Z"
    },
    "papermill": {
     "duration": 0.319309,
     "end_time": "2023-10-06T13:42:44.583497",
     "exception": false,
     "start_time": "2023-10-06T13:42:44.264188",
     "status": "completed"
    },
    "tags": []
   },
   "outputs": [
    {
     "name": "stderr",
     "output_type": "stream",
     "text": [
      "/opt/conda/lib/python3.10/site-packages/seaborn/axisgrid.py:118: UserWarning: The figure layout has changed to tight\n",
      "  self._figure.tight_layout(*args, **kwargs)\n"
     ]
    },
    {
     "data": {
      "text/plain": [
       "<seaborn.axisgrid.FacetGrid at 0x7c41e0cff700>"
      ]
     },
     "execution_count": 22,
     "metadata": {},
     "output_type": "execute_result"
    },
    {
     "data": {
      "image/png": "[encoded data removed]",
      "text/plain": [
       "<Figure size 500x500 with 1 Axes>"
      ]
     },
     "metadata": {},
     "output_type": "display_data"
    }
   ],
   "source": [
    "sns.displot(x=\"ShoppingMall\", data=train, bins = 10)"
   ]
  },
  {
   "cell_type": "code",
   "execution_count": 23,
   "id": "ae42c48d",
   "metadata": {
    "execution": {
     "iopub.execute_input": "2023-10-06T13:42:44.619202Z",
     "iopub.status.busy": "2023-10-06T13:42:44.618361Z",
     "iopub.status.idle": "2023-10-06T13:42:44.911733Z",
     "shell.execute_reply": "2023-10-06T13:42:44.910104Z"
    },
    "papermill": {
     "duration": 0.314244,
     "end_time": "2023-10-06T13:42:44.914162",
     "exception": false,
     "start_time": "2023-10-06T13:42:44.599918",
     "status": "completed"
    },
    "tags": []
   },
   "outputs": [
    {
     "name": "stderr",
     "output_type": "stream",
     "text": [
      "/opt/conda/lib/python3.10/site-packages/seaborn/axisgrid.py:118: UserWarning: The figure layout has changed to tight\n",
      "  self._figure.tight_layout(*args, **kwargs)\n"
     ]
    },
    {
     "data": {
      "text/plain": [
       "<seaborn.axisgrid.FacetGrid at 0x7c41e1302380>"
      ]
     },
     "execution_count": 23,
     "metadata": {},
     "output_type": "execute_result"
    },
    {
     "data": {
      "image/png": "[encoded data removed]",
      "text/plain": [
       "<Figure size 500x500 with 1 Axes>"
      ]
     },
     "metadata": {},
     "output_type": "display_data"
    }
   ],
   "source": [
    "sns.displot(x=\"Spa\", data=train, bins = 10)"
   ]
  },
  {
   "cell_type": "code",
   "execution_count": 24,
   "id": "8b024c9f",
   "metadata": {
    "execution": {
     "iopub.execute_input": "2023-10-06T13:42:44.951564Z",
     "iopub.status.busy": "2023-10-06T13:42:44.951170Z",
     "iopub.status.idle": "2023-10-06T13:42:45.342330Z",
     "shell.execute_reply": "2023-10-06T13:42:45.341295Z"
    },
    "papermill": {
     "duration": 0.411929,
     "end_time": "2023-10-06T13:42:45.344421",
     "exception": false,
     "start_time": "2023-10-06T13:42:44.932492",
     "status": "completed"
    },
    "tags": []
   },
   "outputs": [
    {
     "name": "stderr",
     "output_type": "stream",
     "text": [
      "/opt/conda/lib/python3.10/site-packages/seaborn/axisgrid.py:118: UserWarning: The figure layout has changed to tight\n",
      "  self._figure.tight_layout(*args, **kwargs)\n"
     ]
    },
    {
     "data": {
      "text/plain": [
       "<seaborn.axisgrid.FacetGrid at 0x7c41e0897fa0>"
      ]
     },
     "execution_count": 24,
     "metadata": {},
     "output_type": "execute_result"
    },
    {
     "data": {
      "image/png": "[encoded data removed]",
      "text/plain": [
       "<Figure size 500x500 with 1 Axes>"
      ]
     },
     "metadata": {},
     "output_type": "display_data"
    }
   ],
   "source": [
    "sns.displot(x=\"VRDeck\", data=train, bins = 10)"
   ]
  },
  {
   "cell_type": "code",
   "execution_count": 25,
   "id": "c3d319de",
   "metadata": {
    "execution": {
     "iopub.execute_input": "2023-10-06T13:42:45.380035Z",
     "iopub.status.busy": "2023-10-06T13:42:45.379456Z",
     "iopub.status.idle": "2023-10-06T13:42:45.384830Z",
     "shell.execute_reply": "2023-10-06T13:42:45.384124Z"
    },
    "papermill": {
     "duration": 0.025206,
     "end_time": "2023-10-06T13:42:45.386549",
     "exception": false,
     "start_time": "2023-10-06T13:42:45.361343",
     "status": "completed"
    },
    "tags": []
   },
   "outputs": [],
   "source": [
    "def spending(cols):\n",
    "    total = 0\n",
    "    for i in range(len(cols)):\n",
    "        total = total + cols[i]\n",
    "    return total"
   ]
  },
  {
   "cell_type": "code",
   "execution_count": 26,
   "id": "569caed7",
   "metadata": {
    "execution": {
     "iopub.execute_input": "2023-10-06T13:42:45.424510Z",
     "iopub.status.busy": "2023-10-06T13:42:45.423611Z",
     "iopub.status.idle": "2023-10-06T13:42:45.594228Z",
     "shell.execute_reply": "2023-10-06T13:42:45.593223Z"
    },
    "papermill": {
     "duration": 0.191876,
     "end_time": "2023-10-06T13:42:45.596483",
     "exception": false,
     "start_time": "2023-10-06T13:42:45.404607",
     "status": "completed"
    },
    "tags": []
   },
   "outputs": [],
   "source": [
    "train['Total'] = train[['VRDeck', 'FoodCourt','Spa', 'ShoppingMall','RoomService']].apply(spending, axis = 1)\n",
    "test['Total'] = test[['VRDeck', 'FoodCourt','Spa', 'ShoppingMall','RoomService']].apply(spending, axis = 1)"
   ]
  },
  {
   "cell_type": "code",
   "execution_count": 27,
   "id": "bda649c6",
   "metadata": {
    "execution": {
     "iopub.execute_input": "2023-10-06T13:42:45.633691Z",
     "iopub.status.busy": "2023-10-06T13:42:45.632979Z",
     "iopub.status.idle": "2023-10-06T13:42:45.641494Z",
     "shell.execute_reply": "2023-10-06T13:42:45.640611Z"
    },
    "papermill": {
     "duration": 0.02958,
     "end_time": "2023-10-06T13:42:45.643351",
     "exception": false,
     "start_time": "2023-10-06T13:42:45.613771",
     "status": "completed"
    },
    "tags": []
   },
   "outputs": [],
   "source": [
    "train = train.drop([\"VIP\", \"Destination\", \"People\", \"Age Group\"],axis = 1)\n",
    "test = test.drop([\"VIP\", \"Destination\", \"People\", \"Age Group\"],axis = 1)"
   ]
  },
  {
   "cell_type": "code",
   "execution_count": 28,
   "id": "8fcddf86",
   "metadata": {
    "execution": {
     "iopub.execute_input": "2023-10-06T13:42:45.679692Z",
     "iopub.status.busy": "2023-10-06T13:42:45.679334Z",
     "iopub.status.idle": "2023-10-06T13:42:45.704202Z",
     "shell.execute_reply": "2023-10-06T13:42:45.703212Z"
    },
    "papermill": {
     "duration": 0.045782,
     "end_time": "2023-10-06T13:42:45.706180",
     "exception": false,
     "start_time": "2023-10-06T13:42:45.660398",
     "status": "completed"
    },
    "tags": []
   },
   "outputs": [
    {
     "data": {
      "text/html": [
       "<div>\n",
       "<style scoped>\n",
       "    .dataframe tbody tr th:only-of-type {\n",
       "        vertical-align: middle;\n",
       "    }\n",
       "\n",
       "    .dataframe tbody tr th {\n",
       "        vertical-align: top;\n",
       "    }\n",
       "\n",
       "    .dataframe thead th {\n",
       "        text-align: right;\n",
       "    }\n",
       "</style>\n",
       "<table border=\"1\" class=\"dataframe\">\n",
       "  <thead>\n",
       "    <tr style=\"text-align: right;\">\n",
       "      <th></th>\n",
       "      <th>HomePlanet</th>\n",
       "      <th>CryoSleep</th>\n",
       "      <th>Cabin</th>\n",
       "      <th>Age</th>\n",
       "      <th>RoomService</th>\n",
       "      <th>FoodCourt</th>\n",
       "      <th>ShoppingMall</th>\n",
       "      <th>Spa</th>\n",
       "      <th>VRDeck</th>\n",
       "      <th>Name</th>\n",
       "      <th>Transported</th>\n",
       "      <th>Group</th>\n",
       "      <th>Deck</th>\n",
       "      <th>Side</th>\n",
       "      <th>Total</th>\n",
       "    </tr>\n",
       "    <tr>\n",
       "      <th>PassengerId</th>\n",
       "      <th></th>\n",
       "      <th></th>\n",
       "      <th></th>\n",
       "      <th></th>\n",
       "      <th></th>\n",
       "      <th></th>\n",
       "      <th></th>\n",
       "      <th></th>\n",
       "      <th></th>\n",
       "      <th></th>\n",
       "      <th></th>\n",
       "      <th></th>\n",
       "      <th></th>\n",
       "      <th></th>\n",
       "      <th></th>\n",
       "    </tr>\n",
       "  </thead>\n",
       "  <tbody>\n",
       "    <tr>\n",
       "      <th>0001_01</th>\n",
       "      <td>Europa</td>\n",
       "      <td>False</td>\n",
       "      <td>B/0/P</td>\n",
       "      <td>39.0</td>\n",
       "      <td>0.0</td>\n",
       "      <td>0.0</td>\n",
       "      <td>0.0</td>\n",
       "      <td>0.0</td>\n",
       "      <td>0.0</td>\n",
       "      <td>Maham Ofracculy</td>\n",
       "      <td>False</td>\n",
       "      <td>0001</td>\n",
       "      <td>B</td>\n",
       "      <td>P</td>\n",
       "      <td>0.0</td>\n",
       "    </tr>\n",
       "    <tr>\n",
       "      <th>0002_01</th>\n",
       "      <td>Earth</td>\n",
       "      <td>False</td>\n",
       "      <td>F/0/S</td>\n",
       "      <td>24.0</td>\n",
       "      <td>109.0</td>\n",
       "      <td>9.0</td>\n",
       "      <td>25.0</td>\n",
       "      <td>549.0</td>\n",
       "      <td>44.0</td>\n",
       "      <td>Juanna Vines</td>\n",
       "      <td>True</td>\n",
       "      <td>0002</td>\n",
       "      <td>F</td>\n",
       "      <td>S</td>\n",
       "      <td>736.0</td>\n",
       "    </tr>\n",
       "    <tr>\n",
       "      <th>0003_01</th>\n",
       "      <td>Europa</td>\n",
       "      <td>False</td>\n",
       "      <td>A/0/S</td>\n",
       "      <td>58.0</td>\n",
       "      <td>43.0</td>\n",
       "      <td>3576.0</td>\n",
       "      <td>0.0</td>\n",
       "      <td>6715.0</td>\n",
       "      <td>49.0</td>\n",
       "      <td>Altark Susent</td>\n",
       "      <td>False</td>\n",
       "      <td>0003</td>\n",
       "      <td>A</td>\n",
       "      <td>S</td>\n",
       "      <td>10383.0</td>\n",
       "    </tr>\n",
       "    <tr>\n",
       "      <th>0003_02</th>\n",
       "      <td>Europa</td>\n",
       "      <td>False</td>\n",
       "      <td>A/0/S</td>\n",
       "      <td>33.0</td>\n",
       "      <td>0.0</td>\n",
       "      <td>1283.0</td>\n",
       "      <td>371.0</td>\n",
       "      <td>3329.0</td>\n",
       "      <td>193.0</td>\n",
       "      <td>Solam Susent</td>\n",
       "      <td>False</td>\n",
       "      <td>0003</td>\n",
       "      <td>A</td>\n",
       "      <td>S</td>\n",
       "      <td>5176.0</td>\n",
       "    </tr>\n",
       "    <tr>\n",
       "      <th>0004_01</th>\n",
       "      <td>Earth</td>\n",
       "      <td>False</td>\n",
       "      <td>F/1/S</td>\n",
       "      <td>16.0</td>\n",
       "      <td>303.0</td>\n",
       "      <td>70.0</td>\n",
       "      <td>151.0</td>\n",
       "      <td>565.0</td>\n",
       "      <td>2.0</td>\n",
       "      <td>Willy Santantines</td>\n",
       "      <td>True</td>\n",
       "      <td>0004</td>\n",
       "      <td>F</td>\n",
       "      <td>S</td>\n",
       "      <td>1091.0</td>\n",
       "    </tr>\n",
       "    <tr>\n",
       "      <th>...</th>\n",
       "      <td>...</td>\n",
       "      <td>...</td>\n",
       "      <td>...</td>\n",
       "      <td>...</td>\n",
       "      <td>...</td>\n",
       "      <td>...</td>\n",
       "      <td>...</td>\n",
       "      <td>...</td>\n",
       "      <td>...</td>\n",
       "      <td>...</td>\n",
       "      <td>...</td>\n",
       "      <td>...</td>\n",
       "      <td>...</td>\n",
       "      <td>...</td>\n",
       "      <td>...</td>\n",
       "    </tr>\n",
       "    <tr>\n",
       "      <th>9276_01</th>\n",
       "      <td>Europa</td>\n",
       "      <td>False</td>\n",
       "      <td>A/98/P</td>\n",
       "      <td>41.0</td>\n",
       "      <td>0.0</td>\n",
       "      <td>6819.0</td>\n",
       "      <td>0.0</td>\n",
       "      <td>1643.0</td>\n",
       "      <td>74.0</td>\n",
       "      <td>Gravior Noxnuther</td>\n",
       "      <td>False</td>\n",
       "      <td>9276</td>\n",
       "      <td>A</td>\n",
       "      <td>P</td>\n",
       "      <td>8536.0</td>\n",
       "    </tr>\n",
       "    <tr>\n",
       "      <th>9278_01</th>\n",
       "      <td>Earth</td>\n",
       "      <td>True</td>\n",
       "      <td>G/1499/S</td>\n",
       "      <td>18.0</td>\n",
       "      <td>0.0</td>\n",
       "      <td>0.0</td>\n",
       "      <td>0.0</td>\n",
       "      <td>0.0</td>\n",
       "      <td>0.0</td>\n",
       "      <td>Kurta Mondalley</td>\n",
       "      <td>False</td>\n",
       "      <td>9278</td>\n",
       "      <td>G</td>\n",
       "      <td>S</td>\n",
       "      <td>0.0</td>\n",
       "    </tr>\n",
       "    <tr>\n",
       "      <th>9279_01</th>\n",
       "      <td>Earth</td>\n",
       "      <td>False</td>\n",
       "      <td>G/1500/S</td>\n",
       "      <td>26.0</td>\n",
       "      <td>0.0</td>\n",
       "      <td>0.0</td>\n",
       "      <td>1872.0</td>\n",
       "      <td>1.0</td>\n",
       "      <td>0.0</td>\n",
       "      <td>Fayey Connon</td>\n",
       "      <td>True</td>\n",
       "      <td>9279</td>\n",
       "      <td>G</td>\n",
       "      <td>S</td>\n",
       "      <td>1873.0</td>\n",
       "    </tr>\n",
       "    <tr>\n",
       "      <th>9280_01</th>\n",
       "      <td>Europa</td>\n",
       "      <td>False</td>\n",
       "      <td>E/608/S</td>\n",
       "      <td>32.0</td>\n",
       "      <td>0.0</td>\n",
       "      <td>1049.0</td>\n",
       "      <td>0.0</td>\n",
       "      <td>353.0</td>\n",
       "      <td>3235.0</td>\n",
       "      <td>Celeon Hontichre</td>\n",
       "      <td>False</td>\n",
       "      <td>9280</td>\n",
       "      <td>E</td>\n",
       "      <td>S</td>\n",
       "      <td>4637.0</td>\n",
       "    </tr>\n",
       "    <tr>\n",
       "      <th>9280_02</th>\n",
       "      <td>Europa</td>\n",
       "      <td>False</td>\n",
       "      <td>E/608/S</td>\n",
       "      <td>44.0</td>\n",
       "      <td>126.0</td>\n",
       "      <td>4688.0</td>\n",
       "      <td>0.0</td>\n",
       "      <td>0.0</td>\n",
       "      <td>12.0</td>\n",
       "      <td>Propsh Hontichre</td>\n",
       "      <td>True</td>\n",
       "      <td>9280</td>\n",
       "      <td>E</td>\n",
       "      <td>S</td>\n",
       "      <td>4826.0</td>\n",
       "    </tr>\n",
       "  </tbody>\n",
       "</table>\n",
       "<p>8693 rows × 15 columns</p>\n",
       "</div>"
      ],
      "text/plain": [
       "            HomePlanet CryoSleep     Cabin   Age  RoomService  FoodCourt  \\\n",
       "PassengerId                                                                \n",
       "0001_01         Europa     False     B/0/P  39.0          0.0        0.0   \n",
       "0002_01          Earth     False     F/0/S  24.0        109.0        9.0   \n",
       "0003_01         Europa     False     A/0/S  58.0         43.0     3576.0   \n",
       "0003_02         Europa     False     A/0/S  33.0          0.0     1283.0   \n",
       "0004_01          Earth     False     F/1/S  16.0        303.0       70.0   \n",
       "...                ...       ...       ...   ...          ...        ...   \n",
       "9276_01         Europa     False    A/98/P  41.0          0.0     6819.0   \n",
       "9278_01          Earth      True  G/1499/S  18.0          0.0        0.0   \n",
       "9279_01          Earth     False  G/1500/S  26.0          0.0        0.0   \n",
       "9280_01         Europa     False   E/608/S  32.0          0.0     1049.0   \n",
       "9280_02         Europa     False   E/608/S  44.0        126.0     4688.0   \n",
       "\n",
       "             ShoppingMall     Spa  VRDeck               Name  Transported  \\\n",
       "PassengerId                                                                 \n",
       "0001_01               0.0     0.0     0.0    Maham Ofracculy        False   \n",
       "0002_01              25.0   549.0    44.0       Juanna Vines         True   \n",
       "0003_01               0.0  6715.0    49.0      Altark Susent        False   \n",
       "0003_02             371.0  3329.0   193.0       Solam Susent        False   \n",
       "0004_01             151.0   565.0     2.0  Willy Santantines         True   \n",
       "...                   ...     ...     ...                ...          ...   \n",
       "9276_01               0.0  1643.0    74.0  Gravior Noxnuther        False   \n",
       "9278_01               0.0     0.0     0.0    Kurta Mondalley        False   \n",
       "9279_01            1872.0     1.0     0.0       Fayey Connon         True   \n",
       "9280_01               0.0   353.0  3235.0   Celeon Hontichre        False   \n",
       "9280_02               0.0     0.0    12.0   Propsh Hontichre         True   \n",
       "\n",
       "            Group Deck Side    Total  \n",
       "PassengerId                           \n",
       "0001_01      0001    B    P      0.0  \n",
       "0002_01      0002    F    S    736.0  \n",
       "0003_01      0003    A    S  10383.0  \n",
       "0003_02      0003    A    S   5176.0  \n",
       "0004_01      0004    F    S   1091.0  \n",
       "...           ...  ...  ...      ...  \n",
       "9276_01      9276    A    P   8536.0  \n",
       "9278_01      9278    G    S      0.0  \n",
       "9279_01      9279    G    S   1873.0  \n",
       "9280_01      9280    E    S   4637.0  \n",
       "9280_02      9280    E    S   4826.0  \n",
       "\n",
       "[8693 rows x 15 columns]"
      ]
     },
     "execution_count": 28,
     "metadata": {},
     "output_type": "execute_result"
    }
   ],
   "source": [
    "train"
   ]
  },
  {
   "cell_type": "code",
   "execution_count": 29,
   "id": "b1a5fa1f",
   "metadata": {
    "execution": {
     "iopub.execute_input": "2023-10-06T13:42:45.743488Z",
     "iopub.status.busy": "2023-10-06T13:42:45.743109Z",
     "iopub.status.idle": "2023-10-06T13:42:45.758804Z",
     "shell.execute_reply": "2023-10-06T13:42:45.757732Z"
    },
    "papermill": {
     "duration": 0.036769,
     "end_time": "2023-10-06T13:42:45.760945",
     "exception": false,
     "start_time": "2023-10-06T13:42:45.724176",
     "status": "completed"
    },
    "tags": []
   },
   "outputs": [
    {
     "data": {
      "text/plain": [
       "['Age',\n",
       " 'RoomService',\n",
       " 'FoodCourt',\n",
       " 'ShoppingMall',\n",
       " 'Spa',\n",
       " 'VRDeck',\n",
       " 'Total',\n",
       " 'HomePlanet',\n",
       " 'CryoSleep',\n",
       " 'Deck',\n",
       " 'Side']"
      ]
     },
     "execution_count": 29,
     "metadata": {},
     "output_type": "execute_result"
    }
   ],
   "source": [
    "numerical_cols = [cols for cols in train if train[cols].dtype == 'float64']\n",
    "categorical_cols = [cols for cols in train if train[cols].nunique()<10 and train[cols].dtype == \"object\"]\n",
    "training_cols = numerical_cols + categorical_cols\n",
    "training_cols"
   ]
  },
  {
   "cell_type": "code",
   "execution_count": 30,
   "id": "f3969d85",
   "metadata": {
    "execution": {
     "iopub.execute_input": "2023-10-06T13:42:45.798343Z",
     "iopub.status.busy": "2023-10-06T13:42:45.797981Z",
     "iopub.status.idle": "2023-10-06T13:42:45.821088Z",
     "shell.execute_reply": "2023-10-06T13:42:45.820024Z"
    },
    "papermill": {
     "duration": 0.044661,
     "end_time": "2023-10-06T13:42:45.823195",
     "exception": false,
     "start_time": "2023-10-06T13:42:45.778534",
     "status": "completed"
    },
    "tags": []
   },
   "outputs": [
    {
     "data": {
      "text/html": [
       "<div>\n",
       "<style scoped>\n",
       "    .dataframe tbody tr th:only-of-type {\n",
       "        vertical-align: middle;\n",
       "    }\n",
       "\n",
       "    .dataframe tbody tr th {\n",
       "        vertical-align: top;\n",
       "    }\n",
       "\n",
       "    .dataframe thead th {\n",
       "        text-align: right;\n",
       "    }\n",
       "</style>\n",
       "<table border=\"1\" class=\"dataframe\">\n",
       "  <thead>\n",
       "    <tr style=\"text-align: right;\">\n",
       "      <th></th>\n",
       "      <th>Age</th>\n",
       "      <th>RoomService</th>\n",
       "      <th>FoodCourt</th>\n",
       "      <th>ShoppingMall</th>\n",
       "      <th>Spa</th>\n",
       "      <th>VRDeck</th>\n",
       "      <th>Total</th>\n",
       "      <th>HomePlanet</th>\n",
       "      <th>CryoSleep</th>\n",
       "      <th>Deck</th>\n",
       "      <th>Side</th>\n",
       "    </tr>\n",
       "    <tr>\n",
       "      <th>PassengerId</th>\n",
       "      <th></th>\n",
       "      <th></th>\n",
       "      <th></th>\n",
       "      <th></th>\n",
       "      <th></th>\n",
       "      <th></th>\n",
       "      <th></th>\n",
       "      <th></th>\n",
       "      <th></th>\n",
       "      <th></th>\n",
       "      <th></th>\n",
       "    </tr>\n",
       "  </thead>\n",
       "  <tbody>\n",
       "    <tr>\n",
       "      <th>0001_01</th>\n",
       "      <td>39.0</td>\n",
       "      <td>0.0</td>\n",
       "      <td>0.0</td>\n",
       "      <td>0.0</td>\n",
       "      <td>0.0</td>\n",
       "      <td>0.0</td>\n",
       "      <td>0.0</td>\n",
       "      <td>Europa</td>\n",
       "      <td>False</td>\n",
       "      <td>B</td>\n",
       "      <td>P</td>\n",
       "    </tr>\n",
       "    <tr>\n",
       "      <th>0002_01</th>\n",
       "      <td>24.0</td>\n",
       "      <td>109.0</td>\n",
       "      <td>9.0</td>\n",
       "      <td>25.0</td>\n",
       "      <td>549.0</td>\n",
       "      <td>44.0</td>\n",
       "      <td>736.0</td>\n",
       "      <td>Earth</td>\n",
       "      <td>False</td>\n",
       "      <td>F</td>\n",
       "      <td>S</td>\n",
       "    </tr>\n",
       "    <tr>\n",
       "      <th>0003_01</th>\n",
       "      <td>58.0</td>\n",
       "      <td>43.0</td>\n",
       "      <td>3576.0</td>\n",
       "      <td>0.0</td>\n",
       "      <td>6715.0</td>\n",
       "      <td>49.0</td>\n",
       "      <td>10383.0</td>\n",
       "      <td>Europa</td>\n",
       "      <td>False</td>\n",
       "      <td>A</td>\n",
       "      <td>S</td>\n",
       "    </tr>\n",
       "    <tr>\n",
       "      <th>0003_02</th>\n",
       "      <td>33.0</td>\n",
       "      <td>0.0</td>\n",
       "      <td>1283.0</td>\n",
       "      <td>371.0</td>\n",
       "      <td>3329.0</td>\n",
       "      <td>193.0</td>\n",
       "      <td>5176.0</td>\n",
       "      <td>Europa</td>\n",
       "      <td>False</td>\n",
       "      <td>A</td>\n",
       "      <td>S</td>\n",
       "    </tr>\n",
       "    <tr>\n",
       "      <th>0004_01</th>\n",
       "      <td>16.0</td>\n",
       "      <td>303.0</td>\n",
       "      <td>70.0</td>\n",
       "      <td>151.0</td>\n",
       "      <td>565.0</td>\n",
       "      <td>2.0</td>\n",
       "      <td>1091.0</td>\n",
       "      <td>Earth</td>\n",
       "      <td>False</td>\n",
       "      <td>F</td>\n",
       "      <td>S</td>\n",
       "    </tr>\n",
       "    <tr>\n",
       "      <th>...</th>\n",
       "      <td>...</td>\n",
       "      <td>...</td>\n",
       "      <td>...</td>\n",
       "      <td>...</td>\n",
       "      <td>...</td>\n",
       "      <td>...</td>\n",
       "      <td>...</td>\n",
       "      <td>...</td>\n",
       "      <td>...</td>\n",
       "      <td>...</td>\n",
       "      <td>...</td>\n",
       "    </tr>\n",
       "    <tr>\n",
       "      <th>9276_01</th>\n",
       "      <td>41.0</td>\n",
       "      <td>0.0</td>\n",
       "      <td>6819.0</td>\n",
       "      <td>0.0</td>\n",
       "      <td>1643.0</td>\n",
       "      <td>74.0</td>\n",
       "      <td>8536.0</td>\n",
       "      <td>Europa</td>\n",
       "      <td>False</td>\n",
       "      <td>A</td>\n",
       "      <td>P</td>\n",
       "    </tr>\n",
       "    <tr>\n",
       "      <th>9278_01</th>\n",
       "      <td>18.0</td>\n",
       "      <td>0.0</td>\n",
       "      <td>0.0</td>\n",
       "      <td>0.0</td>\n",
       "      <td>0.0</td>\n",
       "      <td>0.0</td>\n",
       "      <td>0.0</td>\n",
       "      <td>Earth</td>\n",
       "      <td>True</td>\n",
       "      <td>G</td>\n",
       "      <td>S</td>\n",
       "    </tr>\n",
       "    <tr>\n",
       "      <th>9279_01</th>\n",
       "      <td>26.0</td>\n",
       "      <td>0.0</td>\n",
       "      <td>0.0</td>\n",
       "      <td>1872.0</td>\n",
       "      <td>1.0</td>\n",
       "      <td>0.0</td>\n",
       "      <td>1873.0</td>\n",
       "      <td>Earth</td>\n",
       "      <td>False</td>\n",
       "      <td>G</td>\n",
       "      <td>S</td>\n",
       "    </tr>\n",
       "    <tr>\n",
       "      <th>9280_01</th>\n",
       "      <td>32.0</td>\n",
       "      <td>0.0</td>\n",
       "      <td>1049.0</td>\n",
       "      <td>0.0</td>\n",
       "      <td>353.0</td>\n",
       "      <td>3235.0</td>\n",
       "      <td>4637.0</td>\n",
       "      <td>Europa</td>\n",
       "      <td>False</td>\n",
       "      <td>E</td>\n",
       "      <td>S</td>\n",
       "    </tr>\n",
       "    <tr>\n",
       "      <th>9280_02</th>\n",
       "      <td>44.0</td>\n",
       "      <td>126.0</td>\n",
       "      <td>4688.0</td>\n",
       "      <td>0.0</td>\n",
       "      <td>0.0</td>\n",
       "      <td>12.0</td>\n",
       "      <td>4826.0</td>\n",
       "      <td>Europa</td>\n",
       "      <td>False</td>\n",
       "      <td>E</td>\n",
       "      <td>S</td>\n",
       "    </tr>\n",
       "  </tbody>\n",
       "</table>\n",
       "<p>8693 rows × 11 columns</p>\n",
       "</div>"
      ],
      "text/plain": [
       "              Age  RoomService  FoodCourt  ShoppingMall     Spa  VRDeck  \\\n",
       "PassengerId                                                               \n",
       "0001_01      39.0          0.0        0.0           0.0     0.0     0.0   \n",
       "0002_01      24.0        109.0        9.0          25.0   549.0    44.0   \n",
       "0003_01      58.0         43.0     3576.0           0.0  6715.0    49.0   \n",
       "0003_02      33.0          0.0     1283.0         371.0  3329.0   193.0   \n",
       "0004_01      16.0        303.0       70.0         151.0   565.0     2.0   \n",
       "...           ...          ...        ...           ...     ...     ...   \n",
       "9276_01      41.0          0.0     6819.0           0.0  1643.0    74.0   \n",
       "9278_01      18.0          0.0        0.0           0.0     0.0     0.0   \n",
       "9279_01      26.0          0.0        0.0        1872.0     1.0     0.0   \n",
       "9280_01      32.0          0.0     1049.0           0.0   353.0  3235.0   \n",
       "9280_02      44.0        126.0     4688.0           0.0     0.0    12.0   \n",
       "\n",
       "               Total HomePlanet CryoSleep Deck Side  \n",
       "PassengerId                                          \n",
       "0001_01          0.0     Europa     False    B    P  \n",
       "0002_01        736.0      Earth     False    F    S  \n",
       "0003_01      10383.0     Europa     False    A    S  \n",
       "0003_02       5176.0     Europa     False    A    S  \n",
       "0004_01       1091.0      Earth     False    F    S  \n",
       "...              ...        ...       ...  ...  ...  \n",
       "9276_01       8536.0     Europa     False    A    P  \n",
       "9278_01          0.0      Earth      True    G    S  \n",
       "9279_01       1873.0      Earth     False    G    S  \n",
       "9280_01       4637.0     Europa     False    E    S  \n",
       "9280_02       4826.0     Europa     False    E    S  \n",
       "\n",
       "[8693 rows x 11 columns]"
      ]
     },
     "execution_count": 30,
     "metadata": {},
     "output_type": "execute_result"
    }
   ],
   "source": [
    "y = train[\"Transported\"]\n",
    "X = train[training_cols]\n",
    "test = test[training_cols]\n",
    "X"
   ]
  },
  {
   "cell_type": "code",
   "execution_count": 31,
   "id": "735e7863",
   "metadata": {
    "execution": {
     "iopub.execute_input": "2023-10-06T13:42:45.861117Z",
     "iopub.status.busy": "2023-10-06T13:42:45.860782Z",
     "iopub.status.idle": "2023-10-06T13:42:46.919730Z",
     "shell.execute_reply": "2023-10-06T13:42:46.918528Z"
    },
    "papermill": {
     "duration": 1.08137,
     "end_time": "2023-10-06T13:42:46.922475",
     "exception": false,
     "start_time": "2023-10-06T13:42:45.841105",
     "status": "completed"
    },
    "tags": []
   },
   "outputs": [],
   "source": [
    "from sklearn.preprocessing import OneHotEncoder, LabelEncoder\n",
    "from sklearn.ensemble import RandomForestClassifier\n",
    "from sklearn.compose import ColumnTransformer\n",
    "from sklearn.metrics import accuracy_score\n",
    "from sklearn.pipeline import Pipeline\n",
    "from sklearn.impute import SimpleImputer\n",
    "from sklearn.model_selection import train_test_split\n",
    "from xgboost import XGBClassifier"
   ]
  },
  {
   "cell_type": "code",
   "execution_count": 32,
   "id": "1e469488",
   "metadata": {
    "execution": {
     "iopub.execute_input": "2023-10-06T13:42:46.963086Z",
     "iopub.status.busy": "2023-10-06T13:42:46.962661Z",
     "iopub.status.idle": "2023-10-06T13:42:46.991625Z",
     "shell.execute_reply": "2023-10-06T13:42:46.990268Z"
    },
    "papermill": {
     "duration": 0.052266,
     "end_time": "2023-10-06T13:42:46.994747",
     "exception": false,
     "start_time": "2023-10-06T13:42:46.942481",
     "status": "completed"
    },
    "tags": []
   },
   "outputs": [],
   "source": [
    "le_y = LabelEncoder()\n",
    "y = le_y.fit_transform(y)\n",
    "X = pd.get_dummies(X, columns = categorical_cols)\n",
    "test = pd.get_dummies(test, columns = categorical_cols)"
   ]
  },
  {
   "cell_type": "code",
   "execution_count": 33,
   "id": "16314ade",
   "metadata": {
    "execution": {
     "iopub.execute_input": "2023-10-06T13:42:47.042859Z",
     "iopub.status.busy": "2023-10-06T13:42:47.042193Z",
     "iopub.status.idle": "2023-10-06T13:42:47.050360Z",
     "shell.execute_reply": "2023-10-06T13:42:47.049592Z"
    },
    "papermill": {
     "duration": 0.0329,
     "end_time": "2023-10-06T13:42:47.053918",
     "exception": false,
     "start_time": "2023-10-06T13:42:47.021018",
     "status": "completed"
    },
    "tags": []
   },
   "outputs": [],
   "source": [
    "X_train,X_test, y_train, y_test = train_test_split(X, y, test_size = 0.2, random_state = 0)"
   ]
  },
  {
   "cell_type": "code",
   "execution_count": 34,
   "id": "ff637153",
   "metadata": {
    "execution": {
     "iopub.execute_input": "2023-10-06T13:42:47.096326Z",
     "iopub.status.busy": "2023-10-06T13:42:47.095710Z",
     "iopub.status.idle": "2023-10-06T13:42:50.761346Z",
     "shell.execute_reply": "2023-10-06T13:42:50.760348Z"
    },
    "papermill": {
     "duration": 3.689294,
     "end_time": "2023-10-06T13:42:50.763609",
     "exception": false,
     "start_time": "2023-10-06T13:42:47.074315",
     "status": "completed"
    },
    "tags": []
   },
   "outputs": [
    {
     "data": {
      "text/plain": [
       "0.8113858539390454"
      ]
     },
     "execution_count": 34,
     "metadata": {},
     "output_type": "execute_result"
    }
   ],
   "source": [
    "# model = RandomForestClassifier(n_estimators = 100, max_depth = 5, random_state = 0)\n",
    "my_model = XGBClassifier(n_estimators = 500, learning_rate = 0.03)\n",
    "my_model.fit(X_train, y_train)\n",
    "pred = my_model.predict(X_test)\n",
    "score = accuracy_score(y_test, pred)\n",
    "score"
   ]
  },
  {
   "cell_type": "code",
   "execution_count": 35,
   "id": "67911e67",
   "metadata": {
    "execution": {
     "iopub.execute_input": "2023-10-06T13:42:50.804517Z",
     "iopub.status.busy": "2023-10-06T13:42:50.803911Z",
     "iopub.status.idle": "2023-10-06T13:42:55.071978Z",
     "shell.execute_reply": "2023-10-06T13:42:55.070871Z"
    },
    "papermill": {
     "duration": 4.290205,
     "end_time": "2023-10-06T13:42:55.074545",
     "exception": false,
     "start_time": "2023-10-06T13:42:50.784340",
     "status": "completed"
    },
    "tags": []
   },
   "outputs": [
    {
     "data": {
      "text/html": [
       "<div>\n",
       "<style scoped>\n",
       "    .dataframe tbody tr th:only-of-type {\n",
       "        vertical-align: middle;\n",
       "    }\n",
       "\n",
       "    .dataframe tbody tr th {\n",
       "        vertical-align: top;\n",
       "    }\n",
       "\n",
       "    .dataframe thead th {\n",
       "        text-align: right;\n",
       "    }\n",
       "</style>\n",
       "<table border=\"1\" class=\"dataframe\">\n",
       "  <thead>\n",
       "    <tr style=\"text-align: right;\">\n",
       "      <th></th>\n",
       "      <th>PassengerId</th>\n",
       "      <th>Transported</th>\n",
       "    </tr>\n",
       "  </thead>\n",
       "  <tbody>\n",
       "    <tr>\n",
       "      <th>0</th>\n",
       "      <td>0013_01</td>\n",
       "      <td>True</td>\n",
       "    </tr>\n",
       "    <tr>\n",
       "      <th>1</th>\n",
       "      <td>0018_01</td>\n",
       "      <td>False</td>\n",
       "    </tr>\n",
       "    <tr>\n",
       "      <th>2</th>\n",
       "      <td>0019_01</td>\n",
       "      <td>True</td>\n",
       "    </tr>\n",
       "    <tr>\n",
       "      <th>3</th>\n",
       "      <td>0021_01</td>\n",
       "      <td>True</td>\n",
       "    </tr>\n",
       "    <tr>\n",
       "      <th>4</th>\n",
       "      <td>0023_01</td>\n",
       "      <td>True</td>\n",
       "    </tr>\n",
       "    <tr>\n",
       "      <th>...</th>\n",
       "      <td>...</td>\n",
       "      <td>...</td>\n",
       "    </tr>\n",
       "    <tr>\n",
       "      <th>4272</th>\n",
       "      <td>9266_02</td>\n",
       "      <td>True</td>\n",
       "    </tr>\n",
       "    <tr>\n",
       "      <th>4273</th>\n",
       "      <td>9269_01</td>\n",
       "      <td>False</td>\n",
       "    </tr>\n",
       "    <tr>\n",
       "      <th>4274</th>\n",
       "      <td>9271_01</td>\n",
       "      <td>True</td>\n",
       "    </tr>\n",
       "    <tr>\n",
       "      <th>4275</th>\n",
       "      <td>9273_01</td>\n",
       "      <td>True</td>\n",
       "    </tr>\n",
       "    <tr>\n",
       "      <th>4276</th>\n",
       "      <td>9277_01</td>\n",
       "      <td>True</td>\n",
       "    </tr>\n",
       "  </tbody>\n",
       "</table>\n",
       "<p>4277 rows × 2 columns</p>\n",
       "</div>"
      ],
      "text/plain": [
       "     PassengerId  Transported\n",
       "0        0013_01         True\n",
       "1        0018_01        False\n",
       "2        0019_01         True\n",
       "3        0021_01         True\n",
       "4        0023_01         True\n",
       "...          ...          ...\n",
       "4272     9266_02         True\n",
       "4273     9269_01        False\n",
       "4274     9271_01         True\n",
       "4275     9273_01         True\n",
       "4276     9277_01         True\n",
       "\n",
       "[4277 rows x 2 columns]"
      ]
     },
     "execution_count": 35,
     "metadata": {},
     "output_type": "execute_result"
    }
   ],
   "source": [
    "my_model.fit(X,y)\n",
    "final_predictions = my_model.predict(test)\n",
    "final_predictions = le_y.inverse_transform(final_predictions)\n",
    "output = pd.DataFrame({\"PassengerId\":test.index,\n",
    "                      \"Transported\":final_predictions})\n",
    "output"
   ]
  },
  {
   "cell_type": "code",
   "execution_count": 36,
   "id": "5938283d",
   "metadata": {
    "execution": {
     "iopub.execute_input": "2023-10-06T13:42:55.127215Z",
     "iopub.status.busy": "2023-10-06T13:42:55.126692Z",
     "iopub.status.idle": "2023-10-06T13:42:55.144405Z",
     "shell.execute_reply": "2023-10-06T13:42:55.143520Z"
    },
    "papermill": {
     "duration": 0.050187,
     "end_time": "2023-10-06T13:42:55.146538",
     "exception": false,
     "start_time": "2023-10-06T13:42:55.096351",
     "status": "completed"
    },
    "tags": []
   },
   "outputs": [],
   "source": [
    "output.to_csv(\"submission.csv\", index = False)"
   ]
  },
  {
   "cell_type": "code",
   "execution_count": null,
   "id": "88b2aea1",
   "metadata": {
    "papermill": {
     "duration": 0.025768,
     "end_time": "2023-10-06T13:42:55.190790",
     "exception": false,
     "start_time": "2023-10-06T13:42:55.165022",
     "status": "completed"
    },
    "tags": []
   },
   "outputs": [],
   "source": []
  }
 ],
 "metadata": {
  "kernelspec": {
   "display_name": "Python 3",
   "language": "python",
   "name": "python3"
  },
  "language_info": {
   "codemirror_mode": {
    "name": "ipython",
    "version": 3
   },
   "file_extension": ".py",
   "mimetype": "text/x-python",
   "name": "python",
   "nbconvert_exporter": "python",
   "pygments_lexer": "ipython3",
   "version": "3.10.12"
  },
  "papermill": {
   "default_parameters": {},
   "duration": 29.508226,
   "end_time": "2023-10-06T13:42:56.332558",
   "environment_variables": {},
   "exception": null,
   "input_path": "__notebook__.ipynb",
   "output_path": "__notebook__.ipynb",
   "parameters": {},
   "start_time": "2023-10-06T13:42:26.824332",
   "version": "2.4.0"
  }
 },
 "nbformat": 4,
 "nbformat_minor": 5
}
